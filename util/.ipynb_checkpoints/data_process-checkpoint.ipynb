{
 "cells": [
  {
   "cell_type": "code",
   "execution_count": 18,
   "metadata": {},
   "outputs": [],
   "source": [
    "\"\"\"\n",
    "Created on July 19, 2018\n",
    "Revised on Oct 29, 2018\n",
    "\n",
    "@author: steven.cy.chuang\n",
    "\"\"\"\n",
    "\n",
    "import numpy as np"
   ]
  },
  {
   "cell_type": "code",
   "execution_count": null,
   "metadata": {},
   "outputs": [],
   "source": [
    "def dummy(y, num_class):\n",
    "    \"\"\"\n",
    "    This method is to get dummy variables for numerical numpy array such as [1, 0, 1, 2] into [[0,1,0],[1,0,0],[0,1,0],[0,0,1]].\n",
    "    For categorical variables, please reffer pandas.get_dummies().\n",
    "    Args:\n",
    "        y (numpy array): the array to get dummy variables.\n",
    "        num_class (int): the number of distinct variables.\n",
    "    Returns: \n",
    "        y_dummy (numpy ndarray): 2d arrary of dummy variables.\n",
    "    \"\"\"\n",
    "    num_inst = len(y)\n",
    "    y_dummy = np.zeros([num_inst, num_class])\n",
    "    for i in range(num_inst):\n",
    "        y_dummy[i, y[i]] = 1\n",
    "    return y_dummy"
   ]
  },
  {
   "cell_type": "code",
   "execution_count": null,
   "metadata": {},
   "outputs": [],
   "source": [
    "def inv_dummy(y):\n",
    "    \"\"\"\n",
    "    This method is to invert dummy variables into one dimension numerical numpy array.\n",
    "    For example, [[0,1,0],[1,0,0],[0,1,0],[0,0,1],[0,0,0]] will be into [1, 0, 1, 2, 3].\n",
    "    It should be noted that new label(the number of dummy variables plus 1) will be added for all elements are 0.\n",
    "    Args:\n",
    "        y (numpy ndarray): 2d arrary of dummy variables.\n",
    "    Returns:\n",
    "        y_inv (numpy array): 1d numerical numpy array.\n",
    "    \"\"\"\n",
    "    num_inst = y.shape[0]\n",
    "    num_dum = y.shape[1]\n",
    "    y_inv = np.zeros(num_inst)\n",
    "    for i in range(num_inst):\n",
    "        if len(np.where(y[i] == 1)[0])==0:\n",
    "            y_inv[i] = num_dum # add new label for all elements are 0\n",
    "        else:\n",
    "            y_inv[i] = np.where(y[i] == 1)[0][0]\n",
    "    return y_inv.astype('int')"
   ]
  },
  {
   "cell_type": "code",
   "execution_count": 39,
   "metadata": {},
   "outputs": [],
   "source": [
    "def split_data(data, label=None, ratio=[0.8, 0.1]):\n",
    "    \"\"\"\n",
    "    Split the data as training, testing, validation datasets with input ratio.\n",
    "    The ratio array presents the ratios of training and testing dataset.\n",
    "    If the summation is less than 1, it means that the rest ratio is for validation dataset.\n",
    "    Args:\n",
    "        data (numpy ndarray): the original dataset, it will be split by the 1st dimension\n",
    "        label (numpy array): the pairs containing {channel: adjust value}. It is optional to input.\n",
    "        ratio (list[float]): the list to represent the ration of each dataset. \n",
    "            Default [0.8, 0.1] means 80% for training, 10% for testing, and rest 10% for validation.\n",
    "    Returns:\n",
    "        the split datasets: training, testing, validation. \n",
    "            If input with labels, that will be (data_train, lab_train), (data_test, lab_test), (data_valid, lab_valid)\n",
    "    \"\"\"\n",
    "    # copy and shuffle the data\n",
    "    data = data.copy()\n",
    "    num_inst = data.shape[0]\n",
    "    indices = np.arange(num_inst)\n",
    "    np.random.shuffle(indices)\n",
    "    \n",
    "    # determine the indices to split the data\n",
    "    ind_train = indices[:round(num_inst*ratio[0])]\n",
    "    ind_test = indices[round(num_inst*ratio[0]):round(num_inst*sum(ratio))]\n",
    "    ind_valid = indices[round(num_inst*sum(ratio)):]\n",
    "    \n",
    "    # determine the datasets with the indices\n",
    "    data_train = data[ind_train]\n",
    "    data_test = data[ind_test]\n",
    "    data_valid = data[ind_valid]\n",
    "    \n",
    "    # return the split datasets directly if there is no label \n",
    "    if label is None:\n",
    "        return data_train, data_test, data_valid\n",
    "    \n",
    "    # split labels with the same indices if there ae labels\n",
    "    else:\n",
    "        label = label.copy()\n",
    "        lab_train = label[ind_train]\n",
    "        lab_test = label[ind_test]\n",
    "        lab_valid = label[ind_valid]\n",
    "        return (data_train, lab_train), (data_test, lab_test), (data_valid, lab_valid)"
   ]
  },
  {
   "cell_type": "code",
   "execution_count": null,
   "metadata": {},
   "outputs": [],
   "source": [
    "def add_noise(x, fact_noise=0.5, std=1., mean=0):\n",
    "    \"\"\"\n",
    "    @ Deprecated function, need to rebuild.\n",
    "    \"\"\"\n",
    "    x_noise = x + fact_noise * np.random.normal(loc=mean, scale=std, size=x.shape) \n",
    "    x_noise = np.clip(x_noise, 0., 1.)\n",
    "    return x_noise"
   ]
  }
 ],
 "metadata": {
  "kernelspec": {
   "display_name": "Python 3",
   "language": "python",
   "name": "python3"
  },
  "language_info": {
   "codemirror_mode": {
    "name": "ipython",
    "version": 3
   },
   "file_extension": ".py",
   "mimetype": "text/x-python",
   "name": "python",
   "nbconvert_exporter": "python",
   "pygments_lexer": "ipython3",
   "version": "3.6.6"
  }
 },
 "nbformat": 4,
 "nbformat_minor": 2
}
