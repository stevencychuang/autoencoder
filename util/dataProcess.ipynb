{
 "cells": [
  {
   "cell_type": "code",
   "execution_count": 18,
   "metadata": {},
   "outputs": [],
   "source": [
    "import numpy as np"
   ]
  },
  {
   "cell_type": "code",
   "execution_count": 39,
   "metadata": {},
   "outputs": [],
   "source": [
    "def splitData(data, label=None, ratio=[0.8, 0.1]):\n",
    "    '''\n",
    "    Split the data as training, testing, validation datasets with input ratio.\n",
    "    The ratio array presents the ratios of training and testing dataset.\n",
    "    If the summation is less than 1, it means that the rest ratio is for validation dataset.\n",
    "    Args:\n",
    "        data (numpy ndarray): the original dataset, it will be split by the 1st dimension\n",
    "        label (numpy array): the pairs containing {channel: adjust value}\n",
    "    Returns:\n",
    "        the dataframe with the adjusted test values\n",
    "     \n",
    "    '''\n",
    "    # copy and shuffle the data\n",
    "    data = data.copy()\n",
    "    numInst = data.shape[0]\n",
    "    indices = np.arange(numInst)\n",
    "    np.random.shuffle(indices)\n",
    "    \n",
    "    # determine the indices to split the data\n",
    "    indTrain = indices[:round(numInst*ratio[0])]\n",
    "    indTest = indices[round(numInst*ratio[0]):round(numInst*sum(ratio))]\n",
    "    indValid = indices[round(numInst*sum(ratio)):]\n",
    "    \n",
    "    # determine the datasets with the indices\n",
    "    dataTrain = data[indTrain]\n",
    "    dataTest = data[indTest]\n",
    "    dataValid = data[indValid]\n",
    "    \n",
    "    # return the split datasets directly if there is no label \n",
    "    if label is None:\n",
    "        return dataTrain, dataTest, dataValid\n",
    "    \n",
    "    # split labels with the same indices if there ae labels\n",
    "    else:\n",
    "        label = label.copy()\n",
    "        labTrain = label[indTrain]\n",
    "        labTest = label[indTest]\n",
    "        labValid = label[indValid]\n",
    "        return (dataTrain, labTrain), (dataTest, labTest), (dataValid, labValid)"
   ]
  },
  {
   "cell_type": "code",
   "execution_count": 41,
   "metadata": {},
   "outputs": [
    {
     "name": "stdout",
     "output_type": "stream",
     "text": [
      "[0 1 2 3]\n",
      "[0 3 1 2]\n",
      "(array([[1, 2],\n",
      "       [4, 5],\n",
      "       [2, 3]]), array([[3, 4]]), array([], shape=(0, 2), dtype=int64))\n",
      "[0 1 2 3]\n",
      "[1 3 2 0]\n",
      "((array([[2, 3],\n",
      "       [4, 5],\n",
      "       [3, 4]]), array([1, 3, 2])), (array([[1, 2]]), array([0])), (array([], shape=(0, 2), dtype=int64), array([], dtype=int64)))\n",
      "[0 1 2 3]\n",
      "[2 0 1 3]\n",
      "((array([[3, 4],\n",
      "       [1, 2]]), array([2, 0])), (array([[2, 3]]), array([1])), (array([[4, 5]]), array([3])))\n"
     ]
    }
   ],
   "source": [
    "x = np.array([[1, 2],\n",
    "              [2, 3],\n",
    "              [3, 4],\n",
    "              [4, 5]])\n",
    "y = np.array([0, 1, 2, 3])\n",
    "print(splitData(x))\n",
    "print(splitData(x, y))\n",
    "print(splitData(x, y, ratio=[0.5, 0.25]))"
   ]
  },
  {
   "cell_type": "code",
   "execution_count": 21,
   "metadata": {},
   "outputs": [
    {
     "data": {
      "text/plain": [
       "array([[1, 2],\n",
       "       [2, 3],\n",
       "       [3, 4],\n",
       "       [4, 5]])"
      ]
     },
     "execution_count": 21,
     "metadata": {},
     "output_type": "execute_result"
    }
   ],
   "source": [
    "x"
   ]
  },
  {
   "cell_type": "code",
   "execution_count": null,
   "metadata": {},
   "outputs": [],
   "source": []
  }
 ],
 "metadata": {
  "kernelspec": {
   "display_name": "Python 3",
   "language": "python",
   "name": "python3"
  },
  "language_info": {
   "codemirror_mode": {
    "name": "ipython",
    "version": 3
   },
   "file_extension": ".py",
   "mimetype": "text/x-python",
   "name": "python",
   "nbconvert_exporter": "python",
   "pygments_lexer": "ipython3",
   "version": "3.6.6"
  }
 },
 "nbformat": 4,
 "nbformat_minor": 2
}
