{
 "cells": [
  {
   "cell_type": "code",
   "execution_count": 18,
   "metadata": {},
   "outputs": [],
   "source": [
    "import numpy as np"
   ]
  },
  {
   "cell_type": "code",
   "execution_count": null,
   "metadata": {},
   "outputs": [],
   "source": [
    "def dummy(y, numClass):\n",
    "    numInst = len(y)\n",
    "    temp = np.zeros([numInst, numClass])\n",
    "    for i in range(numInst):\n",
    "        temp[i, y[i]] = 1\n",
    "    return temp"
   ]
  },
  {
   "cell_type": "code",
   "execution_count": null,
   "metadata": {},
   "outputs": [],
   "source": [
    "def invDummy(y):\n",
    "    numInst = len(y)\n",
    "    temp = np.zeros(numInst)\n",
    "    for i in range(numInst):\n",
    "        temp[i] = np.where(y[i] == 1)[0][0]\n",
    "    return temp.astype('int')"
   ]
  },
  {
   "cell_type": "code",
   "execution_count": 39,
   "metadata": {},
   "outputs": [],
   "source": [
    "def splitData(data, label=None, ratio=[0.8, 0.1]):\n",
    "    '''\n",
    "    Split the data as training, testing, validation datasets with input ratio.\n",
    "    The ratio array presents the ratios of training and testing dataset.\n",
    "    If the summation is less than 1, it means that the rest ratio is for validation dataset.\n",
    "    Args:\n",
    "        data (numpy ndarray): the original dataset, it will be split by the 1st dimension\n",
    "        label (numpy array): the pairs containing {channel: adjust value}. It is optional to input.\n",
    "        ratio (list[float]): the list to represent the ration of each dataset. \n",
    "            Default [0.8, 0.1] means 80% for training, 10% for testing, and rest 10% for validation.\n",
    "    Returns:\n",
    "        the split datasets: training, testing, validation. \n",
    "            If input with labels, that will be (dataTrain, labTrain), (dataTest, labTest), (dataValid, labValid)\n",
    "    '''\n",
    "    # copy and shuffle the data\n",
    "    data = data.copy()\n",
    "    numInst = data.shape[0]\n",
    "    indices = np.arange(numInst)\n",
    "    np.random.shuffle(indices)\n",
    "    \n",
    "    # determine the indices to split the data\n",
    "    indTrain = indices[:round(numInst*ratio[0])]\n",
    "    indTest = indices[round(numInst*ratio[0]):round(numInst*sum(ratio))]\n",
    "    indValid = indices[round(numInst*sum(ratio)):]\n",
    "    \n",
    "    # determine the datasets with the indices\n",
    "    dataTrain = data[indTrain]\n",
    "    dataTest = data[indTest]\n",
    "    dataValid = data[indValid]\n",
    "    \n",
    "    # return the split datasets directly if there is no label \n",
    "    if label is None:\n",
    "        return dataTrain, dataTest, dataValid\n",
    "    \n",
    "    # split labels with the same indices if there ae labels\n",
    "    else:\n",
    "        label = label.copy()\n",
    "        labTrain = label[indTrain]\n",
    "        labTest = label[indTest]\n",
    "        labValid = label[indValid]\n",
    "        return (dataTrain, labTrain), (dataTest, labTest), (dataValid, labValid)"
   ]
  }
 ],
 "metadata": {
  "kernelspec": {
   "display_name": "Python 3",
   "language": "python",
   "name": "python3"
  },
  "language_info": {
   "codemirror_mode": {
    "name": "ipython",
    "version": 3
   },
   "file_extension": ".py",
   "mimetype": "text/x-python",
   "name": "python",
   "nbconvert_exporter": "python",
   "pygments_lexer": "ipython3",
   "version": "3.6.6"
  }
 },
 "nbformat": 4,
 "nbformat_minor": 2
}
