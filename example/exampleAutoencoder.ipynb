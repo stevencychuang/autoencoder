{
 "cells": [
  {
   "cell_type": "code",
   "execution_count": 1,
   "metadata": {},
   "outputs": [
    {
     "name": "stderr",
     "output_type": "stream",
     "text": [
      "Using TensorFlow backend.\n"
     ]
    },
    {
     "name": "stdout",
     "output_type": "stream",
     "text": [
      "importing Jupyter notebook from ../module/autoencoder.ipynb\n"
     ]
    }
   ],
   "source": [
    "from time import time\n",
    "import unittest\n",
    "import numpy as np\n",
    "from sklearn.metrics import silhouette_score\n",
    "\n",
    "import os\n",
    "os.environ[\"CUDA_VISIBLE_DEVICES\"] = '1' \n",
    "\n",
    "from keras.datasets import mnist\n",
    "import tensorflow as tf\n",
    "from keras.backend.tensorflow_backend import set_session\n",
    "config = tf.ConfigProto()\n",
    "config.gpu_options.allow_growth = True\n",
    "# config.gpu_options.per_process_gpu_memory_fraction = 0.48\n",
    "set_session(tf.Session(config=config))\n",
    "\n",
    "import sys  \n",
    "sys.path.append('../')\n",
    "from util.util import *\n",
    "from util import importNotebook\n",
    "from module.autoencoder import VAE, ConvVAE"
   ]
  },
  {
   "cell_type": "markdown",
   "metadata": {},
   "source": [
    "# Example of Convolutional VAE"
   ]
  },
  {
   "cell_type": "code",
   "execution_count": 2,
   "metadata": {},
   "outputs": [
    {
     "name": "stdout",
     "output_type": "stream",
     "text": [
      "(60000, 28, 28, 1)\n",
      "(10000, 28, 28, 1)\n",
      "Train on 60000 samples, validate on 10000 samples\n",
      "Epoch 1/10\n",
      "60000/60000 [==============================] - 5s 86us/step - loss: 0.3004 - val_loss: 0.2424\n",
      "\n",
      "Epoch 00001: val_loss improved from inf to 0.24236, saving model to ../model/temp/Conv_AutoEncoder.01-0.30-0.24.hdf5\n",
      "Epoch 2/10\n",
      "60000/60000 [==============================] - 3s 56us/step - loss: 0.2302 - val_loss: 0.2202\n",
      "\n",
      "Epoch 00002: val_loss improved from 0.24236 to 0.22017, saving model to ../model/temp/Conv_AutoEncoder.02-0.23-0.22.hdf5\n",
      "Epoch 3/10\n",
      "60000/60000 [==============================] - 3s 57us/step - loss: 0.2163 - val_loss: 0.2126\n",
      "\n",
      "Epoch 00003: val_loss improved from 0.22017 to 0.21259, saving model to ../model/temp/Conv_AutoEncoder.03-0.22-0.21.hdf5\n",
      "Epoch 4/10\n",
      "60000/60000 [==============================] - 3s 56us/step - loss: 0.2099 - val_loss: 0.2075\n",
      "\n",
      "Epoch 00004: val_loss improved from 0.21259 to 0.20748, saving model to ../model/temp/Conv_AutoEncoder.04-0.21-0.21.hdf5\n",
      "Epoch 5/10\n",
      "60000/60000 [==============================] - 3s 56us/step - loss: 0.2062 - val_loss: 0.2053\n",
      "\n",
      "Epoch 00005: val_loss improved from 0.20748 to 0.20528, saving model to ../model/temp/Conv_AutoEncoder.05-0.21-0.21.hdf5\n",
      "Epoch 6/10\n",
      "60000/60000 [==============================] - 3s 57us/step - loss: 0.2040 - val_loss: 0.2030\n",
      "\n",
      "Epoch 00006: val_loss improved from 0.20528 to 0.20297, saving model to ../model/temp/Conv_AutoEncoder.06-0.20-0.20.hdf5\n",
      "Epoch 7/10\n",
      "60000/60000 [==============================] - 4s 65us/step - loss: 0.2023 - val_loss: 0.2017\n",
      "\n",
      "Epoch 00007: val_loss improved from 0.20297 to 0.20175, saving model to ../model/temp/Conv_AutoEncoder.07-0.20-0.20.hdf5\n",
      "Epoch 8/10\n",
      "60000/60000 [==============================] - 4s 68us/step - loss: 0.2009 - val_loss: 0.2010\n",
      "\n",
      "Epoch 00008: val_loss improved from 0.20175 to 0.20096, saving model to ../model/temp/Conv_AutoEncoder.08-0.20-0.20.hdf5\n",
      "Epoch 9/10\n",
      "60000/60000 [==============================] - 4s 68us/step - loss: 0.1998 - val_loss: 0.1994\n",
      "\n",
      "Epoch 00009: val_loss improved from 0.20096 to 0.19940, saving model to ../model/temp/Conv_AutoEncoder.09-0.20-0.20.hdf5\n",
      "Epoch 10/10\n",
      "60000/60000 [==============================] - 4s 68us/step - loss: 0.1988 - val_loss: 0.1986\n",
      "\n",
      "Epoch 00010: val_loss improved from 0.19940 to 0.19860, saving model to ../model/temp/Conv_AutoEncoder.10-0.20-0.20.hdf5\n",
      "__________________________________________________________________________________________________\n",
      "Layer (type)                    Output Shape         Param #     Connected to                     \n",
      "==================================================================================================\n",
      "input_1 (InputLayer)            (None, 28, 28, 1)    0                                            \n",
      "__________________________________________________________________________________________________\n",
      "conv2d_1 (Conv2D)               (None, 14, 14, 4)    40          input_1[0][0]                    \n",
      "__________________________________________________________________________________________________\n",
      "conv2d_2 (Conv2D)               (None, 7, 7, 16)     592         conv2d_1[0][0]                   \n",
      "__________________________________________________________________________________________________\n",
      "flatten_1 (Flatten)             (None, 784)          0           conv2d_2[0][0]                   \n",
      "__________________________________________________________________________________________________\n",
      "dense_1 (Dense)                 (None, 16)           12560       flatten_1[0][0]                  \n",
      "__________________________________________________________________________________________________\n",
      "dense_2 (Dense)                 (None, 2)            34          dense_1[0][0]                    \n",
      "__________________________________________________________________________________________________\n",
      "dense_3 (Dense)                 (None, 2)            34          dense_1[0][0]                    \n",
      "__________________________________________________________________________________________________\n",
      "lambda_1 (Lambda)               (None, 2)            0           dense_2[0][0]                    \n",
      "                                                                 dense_3[0][0]                    \n",
      "==================================================================================================\n",
      "Total params: 13,260\n",
      "Trainable params: 13,260\n",
      "Non-trainable params: 0\n",
      "__________________________________________________________________________________________________\n",
      "_________________________________________________________________\n",
      "Layer (type)                 Output Shape              Param #   \n",
      "=================================================================\n",
      "decoder_input (InputLayer)   (None, 2)                 0         \n",
      "_________________________________________________________________\n",
      "dense_4 (Dense)              (None, 16)                48        \n",
      "_________________________________________________________________\n",
      "dense_5 (Dense)              (None, 784)               13328     \n",
      "_________________________________________________________________\n",
      "reshape_1 (Reshape)          (None, 7, 7, 16)          0         \n",
      "_________________________________________________________________\n",
      "conv2d_transpose_1 (Conv2DTr (None, 14, 14, 16)        2320      \n",
      "_________________________________________________________________\n",
      "conv2d_transpose_2 (Conv2DTr (None, 28, 28, 4)         580       \n",
      "_________________________________________________________________\n",
      "conv2d_transpose_3 (Conv2DTr (None, 28, 28, 1)         37        \n",
      "_________________________________________________________________\n",
      "decoder_output (Activation)  (None, 28, 28, 1)         0         \n",
      "=================================================================\n",
      "Total params: 16,313\n",
      "Trainable params: 16,313\n",
      "Non-trainable params: 0\n",
      "_________________________________________________________________\n"
     ]
    },
    {
     "data": {
      "text/plain": [
       "<matplotlib.image.AxesImage at 0x7fc948b88c50>"
      ]
     },
     "execution_count": 2,
     "metadata": {},
     "output_type": "execute_result"
    },
    {
     "data": {
      "image/png": "[encoded data removed]",
      "text/plain": [
       "<Figure size 432x288 with 1 Axes>"
      ]
     },
     "metadata": {},
     "output_type": "display_data"
    }
   ],
   "source": [
    "# Load dataset\n",
    "(xTrain, yTrain), (xTest, yTest) = mnist.load_data()\n",
    "xTrain = xTrain.astype('float32') / 255.\n",
    "xTest = xTest.astype('float32') / 255.\n",
    "numTrain = len(xTrain)\n",
    "numTest = len(xTest)\n",
    "sizeDigit = xTrain.shape[1:]\n",
    "dimInput = [*xTrain.shape[1:], 1]\n",
    "xTrain = xTrain.reshape((numTrain, *dimInput))\n",
    "xTest = xTest.reshape((numTest, *dimInput))\n",
    "print(xTrain.shape)\n",
    "print(xTest.shape)\n",
    "\n",
    "# Set parameters\n",
    "numEpochs = 10\n",
    "sizeBatch = 128\n",
    "sizeKernel = 3\n",
    "layerDense = [16, 2]\n",
    "layerConv = [4, 16]\n",
    "ratRecon = 1\n",
    "nameOptim = 'adam'\n",
    "modelPath = '../model/temp/'\n",
    "patience = 3\n",
    "\n",
    "# Initialize and train\n",
    "convVAE = ConvVAE(dimInput, layerDense=layerDense, layerConv=layerConv, ratRecon=ratRecon)\n",
    "history, timeTrain = convVAE.fit(xTrain, xTest, \n",
    "                                 numEpochs=numEpochs,\n",
    "                                 sizeBatch=sizeBatch,\n",
    "                                 tempPathBest=modelPath)\n",
    "\n",
    "# Get the encoder and decoder \n",
    "encoder = convVAE.encoder\n",
    "decoder = convVAE.decoder\n",
    "encoder.summary()\n",
    "decoder.summary()\n",
    "\n",
    "# Encode testing dataset and get generated reconstruction\n",
    "encode = encoder.predict(xTest)\n",
    "generate = decoder.predict(np.array([[0, 0]]))\n",
    "plt.imshow(generate.reshape(sizeDigit))   "
   ]
  }
 ],
 "metadata": {
  "kernelspec": {
   "display_name": "Python 3",
   "language": "python",
   "name": "python3"
  },
  "language_info": {
   "codemirror_mode": {
    "name": "ipython",
    "version": 3
   },
   "file_extension": ".py",
   "mimetype": "text/x-python",
   "name": "python",
   "nbconvert_exporter": "python",
   "pygments_lexer": "ipython3",
   "version": "3.6.6"
  }
 },
 "nbformat": 4,
 "nbformat_minor": 2
}
