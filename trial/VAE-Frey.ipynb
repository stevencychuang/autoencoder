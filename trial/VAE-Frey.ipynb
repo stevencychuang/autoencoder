{
 "cells": [
  {
   "cell_type": "code",
   "execution_count": 1,
   "metadata": {},
   "outputs": [
    {
     "name": "stderr",
     "output_type": "stream",
     "text": [
      "c:\\users\\user\\anaconda3\\envs\\py36\\lib\\site-packages\\h5py\\__init__.py:36: FutureWarning: Conversion of the second argument of issubdtype from `float` to `np.floating` is deprecated. In future, it will be treated as `np.float64 == np.dtype(float).type`.\n",
      "  from ._conv import register_converters as _register_converters\n",
      "Using TensorFlow backend.\n"
     ]
    }
   ],
   "source": [
    "import random\n",
    "numSeed = 42\n",
    "random.seed(42)\n",
    "from time import time\n",
    "import numpy as np\n",
    "from sklearn.metrics import silhouette_score\n",
    "import matplotlib.pyplot as plt\n",
    "from keras.layers import Input, Dense, Lambda\n",
    "from keras.models import Model\n",
    "from keras import backend as K\n",
    "from keras import metrics\n",
    "\n",
    "import sys  \n",
    "sys.path.append('../')\n",
    "from util.util import *\n",
    "from loadFrey import *"
   ]
  },
  {
   "cell_type": "markdown",
   "metadata": {},
   "source": [
    "## Load the datasets"
   ]
  },
  {
   "cell_type": "code",
   "execution_count": 2,
   "metadata": {},
   "outputs": [
    {
     "name": "stdout",
     "output_type": "stream",
     "text": [
      "(1400, 28, 20)\n",
      "(565, 28, 20)\n"
     ]
    }
   ],
   "source": [
    "xTrain, xTest = load_frey_face_dataset()\n",
    "print(xTrain.shape)\n",
    "print(xTest.shape)"
   ]
  },
  {
   "cell_type": "code",
   "execution_count": 3,
   "metadata": {},
   "outputs": [
    {
     "name": "stdout",
     "output_type": "stream",
     "text": [
      "(1400, 560)\n",
      "(565, 560)\n"
     ]
    }
   ],
   "source": [
    "xTrain, xTest = load_frey_face_dataset()\n",
    "xTrain = xTrain.astype('float32') / 255.\n",
    "xTest = xTest.astype('float32') / 255.\n",
    "numTrain = len(xTrain)\n",
    "numTest = len(xTest)\n",
    "dimInput = np.prod(xTrain.shape[1:])\n",
    "sizeDigit = xTrain.shape[1]\n",
    "\n",
    "xTrain = xTrain.reshape((numTrain, dimInput))\n",
    "xTest = xTest.reshape((numTest, dimInput))\n",
    "print(xTrain.shape)\n",
    "print(xTest.shape)"
   ]
  },
  {
   "cell_type": "markdown",
   "metadata": {},
   "source": [
    "## Declare the parameters and layers"
   ]
  },
  {
   "cell_type": "code",
   "execution_count": 4,
   "metadata": {},
   "outputs": [],
   "source": [
    "numEpochs = 50\n",
    "sizeBatch = 32\n",
    "dimInter = 64\n",
    "dimEncode = 2\n",
    "stdEps = 1.0 \n",
    "ratRecon = 0.995\n",
    "nameOptim = 'adam'"
   ]
  },
  {
   "cell_type": "markdown",
   "metadata": {},
   "source": [
    "## Construct the encoder and decoder"
   ]
  },
  {
   "cell_type": "code",
   "execution_count": 5,
   "metadata": {},
   "outputs": [],
   "source": [
    "layEncInt = Dense(dimInter, activation='relu')\n",
    "layMean = Dense(dimEncode)\n",
    "laySigma = Dense(dimEncode)\n",
    "layDecInt = Dense(dimInter, activation='relu')\n",
    "layDecode = Dense(dimInput, activation='sigmoid')\n",
    "\n",
    "inputs = Input(shape=(dimInput,))\n",
    "interEncode = layEncInt(inputs)\n",
    "zMean = layMean(interEncode)\n",
    "zSigmaLog = laySigma(interEncode) # log for linear dense\n",
    "\n",
    "def sampling(args):\n",
    "    zMean, zSigmaLog = args\n",
    "    epsilon = K.random_normal(shape=(K.shape(zMean)[0], dimEncode),\n",
    "                              mean=0., stddev=stdEps)\n",
    "    return zMean + K.exp(zSigmaLog) * epsilon\n",
    "\n",
    "# note that \"output_shape\" isn't necessary with the TensorFlow backend\n",
    "# so you could write `Lambda(sampling)([z_mean, z_log_sigma])`\n",
    "# z = Lambda(sampling, output_shape=(latent_dim,))([z_mean, z_log_sigma])\n",
    "z = Lambda(sampling)([zMean, zSigmaLog])\n",
    "encoder = Model(inputs, z)\n",
    "\n",
    "inputZ = Input(shape=(dimEncode,))\n",
    "interDecode = layDecInt(inputZ)\n",
    "decode = layDecode(interDecode)\n",
    "decoder = Model(inputZ, decode)"
   ]
  },
  {
   "cell_type": "markdown",
   "metadata": {},
   "source": [
    "## Construct the autoencoder"
   ]
  },
  {
   "cell_type": "code",
   "execution_count": 6,
   "metadata": {},
   "outputs": [
    {
     "name": "stdout",
     "output_type": "stream",
     "text": [
      "_________________________________________________________________\n",
      "Layer (type)                 Output Shape              Param #   \n",
      "=================================================================\n",
      "input_1 (InputLayer)         (None, 560)               0         \n",
      "_________________________________________________________________\n",
      "model_1 (Model)              (None, 2)                 36164     \n",
      "_________________________________________________________________\n",
      "model_2 (Model)              (None, 560)               36592     \n",
      "=================================================================\n",
      "Total params: 72,756\n",
      "Trainable params: 72,756\n",
      "Non-trainable params: 0\n",
      "_________________________________________________________________\n"
     ]
    }
   ],
   "source": [
    "vae = Model(inputs, decoder(encoder(inputs)))\n",
    "vae.summary()"
   ]
  },
  {
   "cell_type": "markdown",
   "metadata": {},
   "source": [
    "## Compile and train"
   ]
  },
  {
   "cell_type": "code",
   "execution_count": 7,
   "metadata": {
    "scrolled": true
   },
   "outputs": [
    {
     "name": "stdout",
     "output_type": "stream",
     "text": [
      "Train on 1400 samples, validate on 565 samples\n",
      "Epoch 1/50\n",
      "1400/1400 [==============================] - 3s 2ms/step - loss: 0.5972 - val_loss: 0.4572\n",
      "Epoch 2/50\n",
      "1400/1400 [==============================] - 0s 166us/step - loss: 0.2779 - val_loss: 0.1449\n",
      "Epoch 3/50\n",
      "1400/1400 [==============================] - 0s 145us/step - loss: 0.1220 - val_loss: 0.0967\n",
      "Epoch 4/50\n",
      "1400/1400 [==============================] - 0s 149us/step - loss: 0.0860 - val_loss: 0.0760\n",
      "Epoch 5/50\n",
      "1400/1400 [==============================] - 0s 145us/step - loss: 0.0666 - val_loss: 0.0611\n",
      "Epoch 6/50\n",
      "1400/1400 [==============================] - 0s 169us/step - loss: 0.0531 - val_loss: 0.0489\n",
      "Epoch 7/50\n",
      "1400/1400 [==============================] - 0s 167us/step - loss: 0.0455 - val_loss: 0.0408\n",
      "Epoch 8/50\n",
      "1400/1400 [==============================] - 0s 164us/step - loss: 0.0382 - val_loss: 0.0344\n",
      "Epoch 9/50\n",
      "1400/1400 [==============================] - 0s 148us/step - loss: 0.0334 - val_loss: 0.0308\n",
      "Epoch 10/50\n",
      "1400/1400 [==============================] - 0s 187us/step - loss: 0.0290 - val_loss: 0.0269\n",
      "Epoch 11/50\n",
      "1400/1400 [==============================] - 0s 153us/step - loss: 0.0260 - val_loss: 0.0248\n",
      "Epoch 12/50\n",
      "1400/1400 [==============================] - 0s 148us/step - loss: 0.0238 - val_loss: 0.0231\n",
      "Epoch 13/50\n",
      "1400/1400 [==============================] - 0s 164us/step - loss: 0.0221 - val_loss: 0.0214\n",
      "Epoch 14/50\n",
      "1400/1400 [==============================] - 0s 143us/step - loss: 0.0209 - val_loss: 0.0202\n",
      "Epoch 15/50\n",
      "1400/1400 [==============================] - 0s 162us/step - loss: 0.0198 - val_loss: 0.0195\n",
      "Epoch 16/50\n",
      "1400/1400 [==============================] - 0s 151us/step - loss: 0.0191 - val_loss: 0.0190\n",
      "Epoch 17/50\n",
      "1400/1400 [==============================] - 0s 151us/step - loss: 0.0187 - val_loss: 0.0184\n",
      "Epoch 18/50\n",
      "1400/1400 [==============================] - 0s 160us/step - loss: 0.0183 - val_loss: 0.0181\n",
      "Epoch 19/50\n",
      "1400/1400 [==============================] - 0s 161us/step - loss: 0.0180 - val_loss: 0.0178\n",
      "Epoch 20/50\n",
      "1400/1400 [==============================] - 0s 140us/step - loss: 0.0178 - val_loss: 0.0176\n",
      "Epoch 21/50\n",
      "1400/1400 [==============================] - 0s 148us/step - loss: 0.0176 - val_loss: 0.0175\n",
      "Epoch 22/50\n",
      "1400/1400 [==============================] - 0s 163us/step - loss: 0.0175 - val_loss: 0.0174\n",
      "Epoch 23/50\n",
      "1400/1400 [==============================] - 0s 149us/step - loss: 0.0174 - val_loss: 0.0173\n",
      "Epoch 24/50\n",
      "1400/1400 [==============================] - 0s 137us/step - loss: 0.0173 - val_loss: 0.0172\n",
      "Epoch 25/50\n",
      "1400/1400 [==============================] - ETA: 0s - loss: 0.017 - 0s 146us/step - loss: 0.0172 - val_loss: 0.0172\n",
      "Epoch 26/50\n",
      "1400/1400 [==============================] - 0s 151us/step - loss: 0.0173 - val_loss: 0.0171\n",
      "Epoch 27/50\n",
      "1400/1400 [==============================] - 0s 151us/step - loss: 0.0172 - val_loss: 0.0172\n",
      "Epoch 28/50\n",
      "1400/1400 [==============================] - 0s 155us/step - loss: 0.0172 - val_loss: 0.0171\n",
      "Epoch 29/50\n",
      "1400/1400 [==============================] - 0s 157us/step - loss: 0.0172 - val_loss: 0.0170\n",
      "Epoch 30/50\n",
      "1400/1400 [==============================] - 0s 145us/step - loss: 0.0171 - val_loss: 0.0171\n",
      "Epoch 31/50\n",
      "1400/1400 [==============================] - 0s 140us/step - loss: 0.0172 - val_loss: 0.0170\n",
      "Epoch 32/50\n",
      "1400/1400 [==============================] - 0s 145us/step - loss: 0.0171 - val_loss: 0.0170\n",
      "Epoch 33/50\n",
      "1400/1400 [==============================] - 0s 155us/step - loss: 0.0171 - val_loss: 0.0171\n",
      "Epoch 34/50\n",
      "1400/1400 [==============================] - 0s 137us/step - loss: 0.0171 - val_loss: 0.0171\n",
      "Epoch 35/50\n",
      "1400/1400 [==============================] - 0s 153us/step - loss: 0.0171 - val_loss: 0.0170\n",
      "Epoch 36/50\n",
      "1400/1400 [==============================] - 0s 155us/step - loss: 0.0171 - val_loss: 0.0170\n",
      "Epoch 37/50\n",
      "1400/1400 [==============================] - 0s 148us/step - loss: 0.0171 - val_loss: 0.0170\n",
      "Epoch 38/50\n",
      "1400/1400 [==============================] - 0s 141us/step - loss: 0.0170 - val_loss: 0.0170\n",
      "Epoch 39/50\n",
      "1400/1400 [==============================] - 0s 140us/step - loss: 0.0171 - val_loss: 0.0170\n",
      "Epoch 40/50\n",
      "1400/1400 [==============================] - 0s 151us/step - loss: 0.0170 - val_loss: 0.0170\n",
      "Epoch 41/50\n",
      "1400/1400 [==============================] - 0s 137us/step - loss: 0.0170 - val_loss: 0.0170\n",
      "Epoch 42/50\n",
      "1400/1400 [==============================] - 0s 166us/step - loss: 0.0170 - val_loss: 0.0169\n",
      "Epoch 43/50\n",
      "1400/1400 [==============================] - 0s 142us/step - loss: 0.0170 - val_loss: 0.0170\n",
      "Epoch 44/50\n",
      "1400/1400 [==============================] - 0s 142us/step - loss: 0.0169 - val_loss: 0.0169\n",
      "Epoch 45/50\n",
      "1400/1400 [==============================] - 0s 150us/step - loss: 0.0170 - val_loss: 0.0169\n",
      "Epoch 46/50\n",
      "1400/1400 [==============================] - 0s 159us/step - loss: 0.0169 - val_loss: 0.0169\n",
      "Epoch 47/50\n",
      "1400/1400 [==============================] - 0s 154us/step - loss: 0.0170 - val_loss: 0.0169\n",
      "Epoch 48/50\n",
      "1400/1400 [==============================] - 0s 142us/step - loss: 0.0169 - val_loss: 0.0169\n",
      "Epoch 49/50\n",
      "1400/1400 [==============================] - 0s 153us/step - loss: 0.0169 - val_loss: 0.0169\n",
      "Epoch 50/50\n",
      "1400/1400 [==============================] - 0s 163us/step - loss: 0.0169 - val_loss: 0.0168\n"
     ]
    }
   ],
   "source": [
    "def lossVAE(zMean, zSigmaLog):\n",
    "    def loss(tensorInput, tensorDecode):\n",
    "        lossRecon =  metrics.binary_crossentropy(tensorInput, tensorDecode)\n",
    "        lossKL = - 0.5 * K.sum(1 + 2 * zSigmaLog - K.square(zMean) - K.square(K.exp(zSigmaLog)), axis=-1)\n",
    "#         lossKL = - 0.5 * K.mean(1 + zSigmaLog - K.square(zMean) - K.exp(zSigmaLog), axis=-1)\n",
    "        return ratRecon * lossRecon + (1 - ratRecon) * lossKL\n",
    "    return loss\n",
    "\n",
    "\n",
    "vae.compile(optimizer=nameOptim, loss=lossVAE(zMean, zSigmaLog))\n",
    "tic = time()\n",
    "history = vae.fit(xTrain, xTrain,\n",
    "                epochs=numEpochs,\n",
    "                batch_size=sizeBatch,\n",
    "                shuffle=True,\n",
    "                validation_data=(xTest, xTest))\n",
    "timeTrain = time() - tic"
   ]
  },
  {
   "cell_type": "markdown",
   "metadata": {},
   "source": [
    "## Show the historical training progress "
   ]
  },
  {
   "cell_type": "code",
   "execution_count": 8,
   "metadata": {},
   "outputs": [
    {
     "name": "stdout",
     "output_type": "stream",
     "text": [
      "traing consumed: 14.251564979553223 seconds\n"
     ]
    },
    {
     "data": {
      "image/png": "[encoded data removed]",
      "text/plain": [
       "<Figure size 432x288 with 1 Axes>"
      ]
     },
     "metadata": {},
     "output_type": "display_data"
    }
   ],
   "source": [
    "print(\"traing consumed: \" + str(timeTrain) + \" seconds\")\n",
    "plotProgress(history)"
   ]
  },
  {
   "cell_type": "markdown",
   "metadata": {},
   "source": [
    "## Get the encoding and decoding results of testing data, and get the mean/std of the encoding "
   ]
  },
  {
   "cell_type": "code",
   "execution_count": 9,
   "metadata": {},
   "outputs": [],
   "source": [
    "# encode and decode some digits\n",
    "# note that we take them from the *test* set\n",
    "encodeTest = encoder.predict(xTest)\n",
    "decodeTest = decoder.predict(encodeTest)\n",
    "meanEncTest = np.mean(encodeTest, axis=0)\n",
    "stdEncTest = np.std(encodeTest, axis=0)"
   ]
  },
  {
   "cell_type": "markdown",
   "metadata": {},
   "source": [
    "## Compare original digitals with the decoding results"
   ]
  },
  {
   "cell_type": "code",
   "execution_count": 10,
   "metadata": {},
   "outputs": [
    {
     "data": {
      "image/png": "[encoded data removed]",
      "text/plain": [
       "<Figure size 1440x288 with 20 Axes>"
      ]
     },
     "metadata": {},
     "output_type": "display_data"
    }
   ],
   "source": [
    "plotCompDecode(xTest, decodeTest, sizeDigit = (28, 20))"
   ]
  },
  {
   "cell_type": "markdown",
   "metadata": {},
   "source": [
    "## Plot the scatter of the encoding space"
   ]
  },
  {
   "cell_type": "code",
   "execution_count": null,
   "metadata": {},
   "outputs": [],
   "source": [
    "xlim = (meanEncTest[0] - 4*stdEncTest[0], meanEncTest[0] + 4*stdEncTest[0])\n",
    "ylim = (meanEncTest[1] - 4*stdEncTest[1], meanEncTest[1] + 4*stdEncTest[1])\n",
    "\n",
    "plotScatterEncode(encodeTest, None, xlim, ylim, numShow=10000)\n",
    "# scoreSilh = silhouette_score(encodeTest, yTest)  "
   ]
  },
  {
   "cell_type": "markdown",
   "metadata": {},
   "source": [
    "## Plot the decoding results from the encoding scatter "
   ]
  },
  {
   "cell_type": "code",
   "execution_count": null,
   "metadata": {},
   "outputs": [],
   "source": [
    "# display a 2D manifold of the digits\n",
    "plotScatterDecode(decoder, (28,20), [-2,2], [-2,2])"
   ]
  },
  {
   "cell_type": "code",
   "execution_count": null,
   "metadata": {},
   "outputs": [],
   "source": [
    "print(timeTrain, history.history[\"loss\"][numEpochs-1], history.history[\"val_loss\"][numEpochs-1])"
   ]
  }
 ],
 "metadata": {
  "kernelspec": {
   "display_name": "Python 3",
   "language": "python",
   "name": "python3"
  },
  "language_info": {
   "codemirror_mode": {
    "name": "ipython",
    "version": 3
   },
   "file_extension": ".py",
   "mimetype": "text/x-python",
   "name": "python",
   "nbconvert_exporter": "python",
   "pygments_lexer": "ipython3",
   "version": "3.6.4"
  }
 },
 "nbformat": 4,
 "nbformat_minor": 2
}
