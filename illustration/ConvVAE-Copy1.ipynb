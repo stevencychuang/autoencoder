{
 "cells": [
  {
   "cell_type": "code",
   "execution_count": 1,
   "metadata": {},
   "outputs": [
    {
     "name": "stderr",
     "output_type": "stream",
     "text": [
      "c:\\users\\user\\anaconda3\\envs\\py36\\lib\\site-packages\\h5py\\__init__.py:36: FutureWarning: Conversion of the second argument of issubdtype from `float` to `np.floating` is deprecated. In future, it will be treated as `np.float64 == np.dtype(float).type`.\n",
      "  from ._conv import register_converters as _register_converters\n",
      "Using TensorFlow backend.\n"
     ]
    }
   ],
   "source": [
    "from time import time\n",
    "import numpy as np\n",
    "numSeed = 42\n",
    "np.random.seed(numSeed)\n",
    "from sklearn.metrics import silhouette_score\n",
    "import matplotlib.pyplot as plt\n",
    "from keras.layers import Input, Dense, Lambda, Conv2D, Conv2DTranspose, Activation, Flatten, Reshape\n",
    "from keras.models import Model\n",
    "from keras import backend as K\n",
    "from keras import metrics\n",
    "from keras.datasets import mnist\n",
    "\n",
    "from util import *\n",
    "from loadFrey import *"
   ]
  },
  {
   "cell_type": "markdown",
   "metadata": {},
   "source": [
    "## Declare the parameters"
   ]
  },
  {
   "cell_type": "code",
   "execution_count": 2,
   "metadata": {},
   "outputs": [],
   "source": [
    "numEpochs = 50\n",
    "sizeBatch = 16\n",
    "sizeKernel = 3\n",
    "dimInter = 256\n",
    "dimEncode = 64\n",
    "layer_filters = [32, 64]\n",
    "stdEps = 1.0 \n",
    "ratRecon = 0.9999\n",
    "factNoise = 0\n",
    "nameOptim = 'adam'"
   ]
  },
  {
   "cell_type": "markdown",
   "metadata": {},
   "source": [
    "## Load the datasets"
   ]
  },
  {
   "cell_type": "code",
   "execution_count": 3,
   "metadata": {},
   "outputs": [
    {
     "name": "stdout",
     "output_type": "stream",
     "text": [
      "(1400, 28, 20, 1)\n",
      "(565, 28, 20, 1)\n"
     ]
    }
   ],
   "source": [
    "xTrain, xTest = load_frey_face_dataset()\n",
    "sizeDigit = xTrain.shape[1:]\n",
    "numTrain = len(xTrain)\n",
    "numTest = len(xTest)\n",
    "dimInput = np.prod(xTrain.shape[1:])\n",
    "\n",
    "xTrain = xTrain.astype('float32') / 255.\n",
    "xTest = xTest.astype('float32') / 255.\n",
    "\n",
    "xTrain = np.reshape(xTrain, [-1, *sizeDigit, 1])\n",
    "xTest = np.reshape(xTest, [-1, *sizeDigit, 1])\n",
    "xTrainNoise = addNoise(xTrain, factNoise=factNoise)\n",
    "xTestNoise = addNoise(xTest, factNoise=factNoise)\n",
    "print(xTrain.shape)\n",
    "print(xTest.shape)"
   ]
  },
  {
   "cell_type": "markdown",
   "metadata": {},
   "source": [
    "## Construct the encoder and decoder"
   ]
  },
  {
   "cell_type": "code",
   "execution_count": 4,
   "metadata": {},
   "outputs": [
    {
     "name": "stdout",
     "output_type": "stream",
     "text": [
      "__________________________________________________________________________________________________\n",
      "Layer (type)                    Output Shape         Param #     Connected to                     \n",
      "==================================================================================================\n",
      "input_1 (InputLayer)            (None, 28, 20, 1)    0                                            \n",
      "__________________________________________________________________________________________________\n",
      "conv2d_1 (Conv2D)               (None, 14, 10, 32)   320         input_1[0][0]                    \n",
      "__________________________________________________________________________________________________\n",
      "conv2d_2 (Conv2D)               (None, 7, 5, 64)     18496       conv2d_1[0][0]                   \n",
      "__________________________________________________________________________________________________\n",
      "flatten_1 (Flatten)             (None, 2240)         0           conv2d_2[0][0]                   \n",
      "__________________________________________________________________________________________________\n",
      "dense_1 (Dense)                 (None, 256)          573696      flatten_1[0][0]                  \n",
      "__________________________________________________________________________________________________\n",
      "dense_2 (Dense)                 (None, 64)           16448       dense_1[0][0]                    \n",
      "__________________________________________________________________________________________________\n",
      "dense_3 (Dense)                 (None, 64)           16448       dense_1[0][0]                    \n",
      "__________________________________________________________________________________________________\n",
      "lambda_1 (Lambda)               (None, 64)           0           dense_2[0][0]                    \n",
      "                                                                 dense_3[0][0]                    \n",
      "==================================================================================================\n",
      "Total params: 625,408\n",
      "Trainable params: 625,408\n",
      "Non-trainable params: 0\n",
      "__________________________________________________________________________________________________\n",
      "_________________________________________________________________\n",
      "Layer (type)                 Output Shape              Param #   \n",
      "=================================================================\n",
      "decoder_input (InputLayer)   (None, 64)                0         \n",
      "_________________________________________________________________\n",
      "dense_4 (Dense)              (None, 256)               16640     \n",
      "_________________________________________________________________\n",
      "dense_5 (Dense)              (None, 2240)              575680    \n",
      "_________________________________________________________________\n",
      "reshape_1 (Reshape)          (None, 7, 5, 64)          0         \n",
      "_________________________________________________________________\n",
      "conv2d_transpose_1 (Conv2DTr (None, 14, 10, 64)        36928     \n",
      "_________________________________________________________________\n",
      "conv2d_transpose_2 (Conv2DTr (None, 28, 20, 32)        18464     \n",
      "_________________________________________________________________\n",
      "conv2d_transpose_3 (Conv2DTr (None, 28, 20, 1)         289       \n",
      "_________________________________________________________________\n",
      "decoder_output (Activation)  (None, 28, 20, 1)         0         \n",
      "=================================================================\n",
      "Total params: 648,001\n",
      "Trainable params: 648,001\n",
      "Non-trainable params: 0\n",
      "_________________________________________________________________\n"
     ]
    }
   ],
   "source": [
    "inputs = Input(shape=(*sizeDigit, 1))  # adapt this if using `channels_first` image data format\n",
    "x = inputs\n",
    "# Stack of Conv2D blocks\n",
    "# Notes:\n",
    "# 1) Use Batch Normalization before ReLU on deep networks\n",
    "# 2) Use MaxPooling2D as alternative to strides>1\n",
    "# - faster but not as good as strides>1\n",
    "for filters in layer_filters:\n",
    "    x = Conv2D(filters=filters,\n",
    "               kernel_size=sizeKernel,\n",
    "               strides=2,\n",
    "               activation='relu',\n",
    "               padding='same')(x)\n",
    "\n",
    "# Shape info needed to build Decoder Model\n",
    "shape = K.int_shape(x)\n",
    "\n",
    "# Generate the latent vector\n",
    "x = Flatten()(x)\n",
    "x = Dense(dimInter, activation='relu')(x)\n",
    "zMean = Dense(dimEncode)(x)\n",
    "zSigmaLog = Dense(dimEncode)(x) # log for linear dense\n",
    "\n",
    "def sampling(args):\n",
    "    zMean, zSigmaLog = args\n",
    "    epsilon = K.random_normal(shape=(K.shape(zMean)[0], dimEncode),\n",
    "                              mean=0., stddev=stdEps)\n",
    "    return zMean + K.exp(zSigmaLog) * epsilon\n",
    "\n",
    "# note that \"output_shape\" isn't necessary with the TensorFlow backend\n",
    "# so you could write `Lambda(sampling)([z_mean, z_log_sigma])`\n",
    "# z = Lambda(sampling, output_shape=(latent_dim,))([z_mean, z_log_sigma])\n",
    "z = Lambda(sampling)([zMean, zSigmaLog])\n",
    "encoder = Model(inputs, z, name='encoder')\n",
    "encoder.summary()\n",
    "\n",
    "# Build the Decoder Model\n",
    "inputLatent = Input(shape=(dimEncode,), name='decoder_input')\n",
    "x = Dense(dimInter, activation='relu')(inputLatent)\n",
    "x = Dense(shape[1] * shape[2] * shape[3])(x)\n",
    "x = Reshape((shape[1], shape[2], shape[3]))(x)\n",
    "\n",
    "# Stack of Transposed Conv2D blocks\n",
    "# Notes:\n",
    "# 1) Use Batch Normalization before ReLU on deep networks\n",
    "# 2) Use UpSampling2D as alternative to strides>1\n",
    "# - faster but not as good as strides>1\n",
    "for filters in layer_filters[::-1]:\n",
    "    x = Conv2DTranspose(filters=filters,\n",
    "                        kernel_size=sizeKernel,\n",
    "                        strides=2,\n",
    "                        activation='relu',\n",
    "                        padding='same')(x)\n",
    "\n",
    "x = Conv2DTranspose(filters=1,\n",
    "                    kernel_size=sizeKernel,\n",
    "                    padding='same')(x)\n",
    "\n",
    "outputs = Activation('sigmoid', name='decoder_output')(x)\n",
    "\n",
    "# Instantiate Decoder Model\n",
    "decoder = Model(inputLatent, outputs, name='decoder')\n",
    "decoder.summary()"
   ]
  },
  {
   "cell_type": "markdown",
   "metadata": {},
   "source": [
    "## Construct the autoencoder"
   ]
  },
  {
   "cell_type": "code",
   "execution_count": 5,
   "metadata": {},
   "outputs": [
    {
     "name": "stdout",
     "output_type": "stream",
     "text": [
      "_________________________________________________________________\n",
      "Layer (type)                 Output Shape              Param #   \n",
      "=================================================================\n",
      "input_1 (InputLayer)         (None, 28, 20, 1)         0         \n",
      "_________________________________________________________________\n",
      "encoder (Model)              (None, 64)                625408    \n",
      "_________________________________________________________________\n",
      "decoder (Model)              (None, 28, 20, 1)         648001    \n",
      "=================================================================\n",
      "Total params: 1,273,409\n",
      "Trainable params: 1,273,409\n",
      "Non-trainable params: 0\n",
      "_________________________________________________________________\n"
     ]
    }
   ],
   "source": [
    "# Autoencoder = Encoder + Decoder\n",
    "# Instantiate Autoencoder Model\n",
    "autoencoder = Model(inputs, decoder(encoder(inputs)), name='autoencoder')\n",
    "autoencoder.summary()"
   ]
  },
  {
   "cell_type": "markdown",
   "metadata": {},
   "source": [
    "## Compile and train"
   ]
  },
  {
   "cell_type": "code",
   "execution_count": 6,
   "metadata": {
    "scrolled": true
   },
   "outputs": [
    {
     "name": "stdout",
     "output_type": "stream",
     "text": [
      "Train on 1400 samples, validate on 565 samples\n",
      "Epoch 1/50\n",
      "1400/1400 [==============================] - 4s 3ms/step - loss: 0.0993 - val_loss: 0.0315\n",
      "Epoch 2/50\n",
      "1400/1400 [==============================] - 1s 788us/step - loss: 0.0224 - val_loss: 0.0193\n",
      "Epoch 3/50\n",
      "1400/1400 [==============================] - 1s 777us/step - loss: 0.0185 - val_loss: 0.0178\n",
      "Epoch 4/50\n",
      "1400/1400 [==============================] - 1s 747us/step - loss: 0.0177 - val_loss: 0.0174\n",
      "Epoch 5/50\n",
      "1400/1400 [==============================] - 1s 753us/step - loss: 0.0174 - val_loss: 0.0172\n",
      "Epoch 6/50\n",
      "1400/1400 [==============================] - 1s 815us/step - loss: 0.0172 - val_loss: 0.0172\n",
      "Epoch 7/50\n",
      "1400/1400 [==============================] - 1s 749us/step - loss: 0.0171 - val_loss: 0.0171\n",
      "Epoch 8/50\n",
      "1400/1400 [==============================] - 1s 748us/step - loss: 0.0171 - val_loss: 0.0170\n",
      "Epoch 9/50\n",
      "1400/1400 [==============================] - 1s 778us/step - loss: 0.0171 - val_loss: 0.0170\n",
      "Epoch 10/50\n",
      "1400/1400 [==============================] - 1s 772us/step - loss: 0.0171 - val_loss: 0.0170\n",
      "Epoch 11/50\n",
      "1400/1400 [==============================] - 1s 760us/step - loss: 0.0170 - val_loss: 0.0170\n",
      "Epoch 12/50\n",
      "1400/1400 [==============================] - 1s 785us/step - loss: 0.0170 - val_loss: 0.0170\n",
      "Epoch 13/50\n",
      "1400/1400 [==============================] - 1s 815us/step - loss: 0.0170 - val_loss: 0.0169\n",
      "Epoch 14/50\n",
      "1400/1400 [==============================] - 1s 788us/step - loss: 0.0170 - val_loss: 0.0169\n",
      "Epoch 15/50\n",
      "1400/1400 [==============================] - 1s 766us/step - loss: 0.0170 - val_loss: 0.0169\n",
      "Epoch 16/50\n",
      "1400/1400 [==============================] - 1s 786us/step - loss: 0.0170 - val_loss: 0.0169\n",
      "Epoch 17/50\n",
      "1400/1400 [==============================] - 1s 776us/step - loss: 0.0170 - val_loss: 0.0169\n",
      "Epoch 18/50\n",
      "1400/1400 [==============================] - 1s 757us/step - loss: 0.0170 - val_loss: 0.0169\n",
      "Epoch 19/50\n",
      "1400/1400 [==============================] - 1s 750us/step - loss: 0.0169 - val_loss: 0.0169\n",
      "Epoch 20/50\n",
      "1400/1400 [==============================] - 1s 748us/step - loss: 0.0169 - val_loss: 0.0169\n",
      "Epoch 21/50\n",
      "1400/1400 [==============================] - 1s 735us/step - loss: 0.0169 - val_loss: 0.0169\n",
      "Epoch 22/50\n",
      "1400/1400 [==============================] - 1s 754us/step - loss: 0.0169 - val_loss: 0.0168\n",
      "Epoch 23/50\n",
      "1400/1400 [==============================] - 1s 759us/step - loss: 0.0169 - val_loss: 0.0169\n",
      "Epoch 24/50\n",
      "1400/1400 [==============================] - 1s 809us/step - loss: 0.0169 - val_loss: 0.0168\n",
      "Epoch 25/50\n",
      "1400/1400 [==============================] - 1s 777us/step - loss: 0.0169 - val_loss: 0.0168\n",
      "Epoch 26/50\n",
      "1400/1400 [==============================] - 1s 790us/step - loss: 0.0169 - val_loss: 0.0168\n",
      "Epoch 27/50\n",
      "1400/1400 [==============================] - 1s 855us/step - loss: 0.0169 - val_loss: 0.0168\n",
      "Epoch 28/50\n",
      "1400/1400 [==============================] - 1s 841us/step - loss: 0.0169 - val_loss: 0.0169\n",
      "Epoch 29/50\n",
      "1400/1400 [==============================] - 1s 837us/step - loss: 0.0169 - val_loss: 0.0169\n",
      "Epoch 30/50\n",
      "1400/1400 [==============================] - 1s 751us/step - loss: 0.0168 - val_loss: 0.0168\n",
      "Epoch 31/50\n",
      "1400/1400 [==============================] - 1s 773us/step - loss: 0.0168 - val_loss: 0.0168\n",
      "Epoch 32/50\n",
      "1400/1400 [==============================] - 1s 779us/step - loss: 0.0169 - val_loss: 0.0168\n",
      "Epoch 33/50\n",
      "1400/1400 [==============================] - 1s 778us/step - loss: 0.0168 - val_loss: 0.0169\n",
      "Epoch 34/50\n",
      "1400/1400 [==============================] - 1s 763us/step - loss: 0.0169 - val_loss: 0.0168\n",
      "Epoch 35/50\n",
      "1400/1400 [==============================] - 1s 788us/step - loss: 0.0168 - val_loss: 0.0168\n",
      "Epoch 36/50\n",
      "1400/1400 [==============================] - 1s 758us/step - loss: 0.0168 - val_loss: 0.0167\n",
      "Epoch 37/50\n",
      "1400/1400 [==============================] - 1s 756us/step - loss: 0.0168 - val_loss: 0.0167\n",
      "Epoch 38/50\n",
      "1400/1400 [==============================] - 1s 754us/step - loss: 0.0168 - val_loss: 0.0167\n",
      "Epoch 39/50\n",
      "1400/1400 [==============================] - 1s 752us/step - loss: 0.0168 - val_loss: 0.0167\n",
      "Epoch 40/50\n",
      "1400/1400 [==============================] - 1s 766us/step - loss: 0.0168 - val_loss: 0.0167\n",
      "Epoch 41/50\n",
      "1400/1400 [==============================] - 1s 753us/step - loss: 0.0168 - val_loss: 0.0167\n",
      "Epoch 42/50\n",
      "1400/1400 [==============================] - 1s 760us/step - loss: 0.0168 - val_loss: 0.0167\n",
      "Epoch 43/50\n",
      "1400/1400 [==============================] - 1s 762us/step - loss: 0.0168 - val_loss: 0.0167\n",
      "Epoch 44/50\n",
      "1400/1400 [==============================] - 1s 758us/step - loss: 0.0167 - val_loss: 0.0167\n",
      "Epoch 45/50\n",
      "1400/1400 [==============================] - 1s 755us/step - loss: 0.0168 - val_loss: 0.0167\n",
      "Epoch 46/50\n",
      "1400/1400 [==============================] - 1s 758us/step - loss: 0.0167 - val_loss: 0.0167\n",
      "Epoch 47/50\n",
      "1400/1400 [==============================] - 1s 740us/step - loss: 0.0167 - val_loss: 0.0167\n",
      "Epoch 48/50\n",
      "1400/1400 [==============================] - 1s 755us/step - loss: 0.0167 - val_loss: 0.0167\n",
      "Epoch 49/50\n",
      "1400/1400 [==============================] - 1s 742us/step - loss: 0.0167 - val_loss: 0.0167\n",
      "Epoch 50/50\n",
      "1400/1400 [==============================] - 1s 758us/step - loss: 0.0167 - val_loss: 0.0167\n"
     ]
    }
   ],
   "source": [
    "def lossVAE(zMean, zSigmaLog):\n",
    "    def loss(tensorInput, tensorDecode):\n",
    "        lossRecon =  metrics.binary_crossentropy(K.flatten(tensorInput), K.flatten(tensorDecode))\n",
    "        lossKL = - 0.5 * K.sum(1 + 2 * zSigmaLog - K.square(zMean) - K.square(K.exp(zSigmaLog)), axis=-1)\n",
    "#         lossKL = - 0.5 * K.mean(1 + zSigmaLog - K.square(zMean) - K.exp(zSigmaLog), axis=-1)\n",
    "        return ratRecon * lossRecon + (1 - ratRecon) * lossKL\n",
    "    return loss\n",
    "\n",
    "autoencoder.compile(optimizer=nameOptim, loss=lossVAE(zMean, zSigmaLog))\n",
    "\n",
    "# Train the autoencoder\n",
    "tic = time()\n",
    "history = autoencoder.fit(xTrainNoise, xTrain,\n",
    "                epochs=numEpochs,\n",
    "                batch_size=sizeBatch,\n",
    "                shuffle=True,\n",
    "                validation_data=(xTest, xTest))\n",
    "timeTrain = time() - tic"
   ]
  },
  {
   "cell_type": "markdown",
   "metadata": {},
   "source": [
    "## Show the historical training progress "
   ]
  },
  {
   "cell_type": "code",
   "execution_count": 7,
   "metadata": {},
   "outputs": [
    {
     "data": {
      "image/png": "[encoded data removed]",
      "text/plain": [
       "<Figure size 432x288 with 1 Axes>"
      ]
     },
     "metadata": {},
     "output_type": "display_data"
    }
   ],
   "source": [
    "# print(\"traing consumed: \" + str(timeTrain) + \" seconds\")\n",
    "plotProgress(history)"
   ]
  },
  {
   "cell_type": "markdown",
   "metadata": {},
   "source": [
    "## Get the encoding and decoding results of testing data, and get the mean/std of the encoding "
   ]
  },
  {
   "cell_type": "code",
   "execution_count": 8,
   "metadata": {},
   "outputs": [],
   "source": [
    "# encode and decode some digits\n",
    "# note that we take them from the *test* set\n",
    "encodeTest = encoder.predict(xTestNoise)\n",
    "decodeTest = decoder.predict(encodeTest)\n",
    "meanEncTest = np.mean(encodeTest, axis=0)\n",
    "stdEncTest = np.std(encodeTest, axis=0)"
   ]
  },
  {
   "cell_type": "markdown",
   "metadata": {},
   "source": [
    "## Compare original digitals with the decoding results"
   ]
  },
  {
   "cell_type": "code",
   "execution_count": 9,
   "metadata": {},
   "outputs": [
    {
     "data": {
      "image/png": "[encoded data removed]",
      "text/plain": [
       "<Figure size 1440x288 with 20 Axes>"
      ]
     },
     "metadata": {},
     "output_type": "display_data"
    }
   ],
   "source": [
    "plotCompDecode(xTest, decodeTest, sizeReshape = sizeDigit)"
   ]
  },
  {
   "cell_type": "markdown",
   "metadata": {},
   "source": [
    "## Plot the scatter of the encoding space"
   ]
  },
  {
   "cell_type": "code",
   "execution_count": 10,
   "metadata": {
    "scrolled": false
   },
   "outputs": [
    {
     "data": {
      "image/png": "[encoded data removed]",
      "text/plain": [
       "<Figure size 864x864 with 1 Axes>"
      ]
     },
     "metadata": {},
     "output_type": "display_data"
    }
   ],
   "source": [
    "xlim = (meanEncTest[0] - 4*stdEncTest[0], meanEncTest[0] + 4*stdEncTest[0])\n",
    "ylim = (meanEncTest[1] - 4*stdEncTest[1], meanEncTest[1] + 4*stdEncTest[1])\n",
    "\n",
    "plotScatterEncode(encodeTest, None, xlim, ylim, numShow=10000)\n",
    "# scoreSilh = silhouette_score(encodeTest, yTest)  "
   ]
  },
  {
   "cell_type": "markdown",
   "metadata": {},
   "source": [
    "## Plot the decoding results from the encoding scatter "
   ]
  },
  {
   "cell_type": "code",
   "execution_count": 11,
   "metadata": {},
   "outputs": [
    {
     "ename": "ValueError",
     "evalue": "Error when checking : expected decoder_input to have shape (64,) but got array with shape (2,)",
     "output_type": "error",
     "traceback": [
      "\u001b[1;31m---------------------------------------------------------------------------\u001b[0m",
      "\u001b[1;31mValueError\u001b[0m                                Traceback (most recent call last)",
      "\u001b[1;32m<ipython-input-11-30b5e5b0c6bc>\u001b[0m in \u001b[0;36m<module>\u001b[1;34m()\u001b[0m\n\u001b[0;32m      1\u001b[0m \u001b[1;31m# display a 2D manifold of the digits\u001b[0m\u001b[1;33m\u001b[0m\u001b[1;33m\u001b[0m\u001b[0m\n\u001b[1;32m----> 2\u001b[1;33m \u001b[0mplotScatterDecode\u001b[0m\u001b[1;33m(\u001b[0m\u001b[0mdecoder\u001b[0m\u001b[1;33m,\u001b[0m \u001b[0msizeDigit\u001b[0m\u001b[1;33m,\u001b[0m \u001b[0mxlim\u001b[0m\u001b[1;33m,\u001b[0m \u001b[0mylim\u001b[0m\u001b[1;33m)\u001b[0m\u001b[1;33m\u001b[0m\u001b[0m\n\u001b[0m",
      "\u001b[1;32mD:\\workspaces\\AE and GAN\\AE\\illustration\\util.py\u001b[0m in \u001b[0;36mplotScatterDecode\u001b[1;34m(decoder, sizeDigit, xlim, ylim, numDigit)\u001b[0m\n\u001b[0;32m     80\u001b[0m         \u001b[1;32mfor\u001b[0m \u001b[0mj\u001b[0m\u001b[1;33m,\u001b[0m \u001b[0myi\u001b[0m \u001b[1;32min\u001b[0m \u001b[0menumerate\u001b[0m\u001b[1;33m(\u001b[0m\u001b[0myGrid\u001b[0m\u001b[1;33m)\u001b[0m\u001b[1;33m:\u001b[0m\u001b[1;33m\u001b[0m\u001b[0m\n\u001b[0;32m     81\u001b[0m             \u001b[0mzSample\u001b[0m \u001b[1;33m=\u001b[0m \u001b[0mnp\u001b[0m\u001b[1;33m.\u001b[0m\u001b[0marray\u001b[0m\u001b[1;33m(\u001b[0m\u001b[1;33m[\u001b[0m\u001b[1;33m[\u001b[0m\u001b[0mxi\u001b[0m\u001b[1;33m,\u001b[0m \u001b[0myi\u001b[0m\u001b[1;33m]\u001b[0m\u001b[1;33m]\u001b[0m\u001b[1;33m)\u001b[0m\u001b[1;33m\u001b[0m\u001b[0m\n\u001b[1;32m---> 82\u001b[1;33m             \u001b[0mdecode\u001b[0m \u001b[1;33m=\u001b[0m \u001b[0mdecoder\u001b[0m\u001b[1;33m.\u001b[0m\u001b[0mpredict\u001b[0m\u001b[1;33m(\u001b[0m\u001b[0mzSample\u001b[0m\u001b[1;33m)\u001b[0m\u001b[1;33m\u001b[0m\u001b[0m\n\u001b[0m\u001b[0;32m     83\u001b[0m             \u001b[0mdigit\u001b[0m \u001b[1;33m=\u001b[0m \u001b[0mdecode\u001b[0m\u001b[1;33m[\u001b[0m\u001b[1;36m0\u001b[0m\u001b[1;33m]\u001b[0m\u001b[1;33m.\u001b[0m\u001b[0mreshape\u001b[0m\u001b[1;33m(\u001b[0m\u001b[0msizeDigit\u001b[0m\u001b[1;33m)\u001b[0m\u001b[1;33m\u001b[0m\u001b[0m\n\u001b[0;32m     84\u001b[0m             figure[j * sizeDigit[0]: (j + 1) * sizeDigit[0],  # 1st pos for y\n",
      "\u001b[1;32mc:\\users\\user\\anaconda3\\envs\\py36\\lib\\site-packages\\keras\\engine\\training.py\u001b[0m in \u001b[0;36mpredict\u001b[1;34m(self, x, batch_size, verbose, steps)\u001b[0m\n\u001b[0;32m   1780\u001b[0m         x = _standardize_input_data(x, self._feed_input_names,\n\u001b[0;32m   1781\u001b[0m                                     \u001b[0mself\u001b[0m\u001b[1;33m.\u001b[0m\u001b[0m_feed_input_shapes\u001b[0m\u001b[1;33m,\u001b[0m\u001b[1;33m\u001b[0m\u001b[0m\n\u001b[1;32m-> 1782\u001b[1;33m                                     check_batch_axis=False)\n\u001b[0m\u001b[0;32m   1783\u001b[0m         \u001b[1;32mif\u001b[0m \u001b[0mself\u001b[0m\u001b[1;33m.\u001b[0m\u001b[0mstateful\u001b[0m\u001b[1;33m:\u001b[0m\u001b[1;33m\u001b[0m\u001b[0m\n\u001b[0;32m   1784\u001b[0m             \u001b[1;32mif\u001b[0m \u001b[0mx\u001b[0m\u001b[1;33m[\u001b[0m\u001b[1;36m0\u001b[0m\u001b[1;33m]\u001b[0m\u001b[1;33m.\u001b[0m\u001b[0mshape\u001b[0m\u001b[1;33m[\u001b[0m\u001b[1;36m0\u001b[0m\u001b[1;33m]\u001b[0m \u001b[1;33m>\u001b[0m \u001b[0mbatch_size\u001b[0m \u001b[1;32mand\u001b[0m \u001b[0mx\u001b[0m\u001b[1;33m[\u001b[0m\u001b[1;36m0\u001b[0m\u001b[1;33m]\u001b[0m\u001b[1;33m.\u001b[0m\u001b[0mshape\u001b[0m\u001b[1;33m[\u001b[0m\u001b[1;36m0\u001b[0m\u001b[1;33m]\u001b[0m \u001b[1;33m%\u001b[0m \u001b[0mbatch_size\u001b[0m \u001b[1;33m!=\u001b[0m \u001b[1;36m0\u001b[0m\u001b[1;33m:\u001b[0m\u001b[1;33m\u001b[0m\u001b[0m\n",
      "\u001b[1;32mc:\\users\\user\\anaconda3\\envs\\py36\\lib\\site-packages\\keras\\engine\\training.py\u001b[0m in \u001b[0;36m_standardize_input_data\u001b[1;34m(data, names, shapes, check_batch_axis, exception_prefix)\u001b[0m\n\u001b[0;32m    118\u001b[0m                             \u001b[1;34m': expected '\u001b[0m \u001b[1;33m+\u001b[0m \u001b[0mnames\u001b[0m\u001b[1;33m[\u001b[0m\u001b[0mi\u001b[0m\u001b[1;33m]\u001b[0m \u001b[1;33m+\u001b[0m \u001b[1;34m' to have shape '\u001b[0m \u001b[1;33m+\u001b[0m\u001b[1;33m\u001b[0m\u001b[0m\n\u001b[0;32m    119\u001b[0m                             \u001b[0mstr\u001b[0m\u001b[1;33m(\u001b[0m\u001b[0mshape\u001b[0m\u001b[1;33m)\u001b[0m \u001b[1;33m+\u001b[0m \u001b[1;34m' but got array with shape '\u001b[0m \u001b[1;33m+\u001b[0m\u001b[1;33m\u001b[0m\u001b[0m\n\u001b[1;32m--> 120\u001b[1;33m                             str(data_shape))\n\u001b[0m\u001b[0;32m    121\u001b[0m     \u001b[1;32mreturn\u001b[0m \u001b[0mdata\u001b[0m\u001b[1;33m\u001b[0m\u001b[0m\n\u001b[0;32m    122\u001b[0m \u001b[1;33m\u001b[0m\u001b[0m\n",
      "\u001b[1;31mValueError\u001b[0m: Error when checking : expected decoder_input to have shape (64,) but got array with shape (2,)"
     ]
    }
   ],
   "source": [
    "# display a 2D manifold of the digits\n",
    "plotScatterDecode(decoder, sizeDigit, xlim, ylim)"
   ]
  },
  {
   "cell_type": "code",
   "execution_count": null,
   "metadata": {},
   "outputs": [],
   "source": [
    "print(timeTrain, history.history[\"loss\"][numEpochs-1], history.history[\"val_loss\"][numEpochs-1])"
   ]
  },
  {
   "cell_type": "code",
   "execution_count": null,
   "metadata": {},
   "outputs": [],
   "source": [
    "xTrain, xTest = load_frey_face_dataset()"
   ]
  },
  {
   "cell_type": "code",
   "execution_count": null,
   "metadata": {},
   "outputs": [],
   "source": []
  }
 ],
 "metadata": {
  "kernelspec": {
   "display_name": "Python 3",
   "language": "python",
   "name": "python3"
  }
 },
 "nbformat": 4,
 "nbformat_minor": 2
}
