{
 "cells": [
  {
   "cell_type": "code",
   "execution_count": 1,
   "metadata": {},
   "outputs": [
    {
     "name": "stderr",
     "output_type": "stream",
     "text": [
      "Using TensorFlow backend.\n"
     ]
    }
   ],
   "source": [
    "from time import time\n",
    "import numpy as np\n",
    "numSeed = 42\n",
    "np.random.seed(numSeed)\n",
    "from sklearn.metrics import silhouette_score\n",
    "import matplotlib.pyplot as plt\n",
    "from keras.layers import Input, Dense, Lambda, Conv2D, Conv2DTranspose, Activation, Flatten, Reshape\n",
    "from keras.models import Model\n",
    "from keras import backend as K\n",
    "from keras import metrics\n",
    "from keras.datasets import cifar10\n",
    "\n",
    "import tensorflow as tf\n",
    "from keras.backend.tensorflow_backend import set_session\n",
    "config = tf.ConfigProto()\n",
    "config.gpu_options.allow_growth = True\n",
    "# config.gpu_options.per_process_gpu_memory_fraction = 0.3\n",
    "set_session(tf.Session(config=config))\n",
    "\n",
    "from util import plotScatterDecode, plotProgress, plotCompDecode, plotScatterEncode, addNoise"
   ]
  },
  {
   "cell_type": "markdown",
   "metadata": {},
   "source": [
    "## Declare the parameters"
   ]
  },
  {
   "cell_type": "code",
   "execution_count": 2,
   "metadata": {},
   "outputs": [],
   "source": [
    "numEpochs = 100\n",
    "sizeBatch = 32\n",
    "sizeKernel = 3\n",
    "dimInter = 128\n",
    "dimEncode = 32\n",
    "layer_filters = [8, 16, 32, 64]\n",
    "stdEps = 1.0 \n",
    "ratRecon = 0.998\n",
    "factNoise = 0\n",
    "nameOptim = 'adam'"
   ]
  },
  {
   "cell_type": "markdown",
   "metadata": {},
   "source": [
    "## Load the datasets"
   ]
  },
  {
   "cell_type": "code",
   "execution_count": 3,
   "metadata": {},
   "outputs": [
    {
     "name": "stdout",
     "output_type": "stream",
     "text": [
      "(50000, 32, 32, 3)\n",
      "(10000, 32, 32, 3)\n"
     ]
    }
   ],
   "source": [
    "(xTrain, _), (xTest, yTest) = cifar10.load_data()\n",
    "yTest = np.squeeze(yTest, axis=1)\n",
    "sizeDigit = xTrain.shape[1]\n",
    "numTrain = len(xTrain)\n",
    "numTest = len(xTest)\n",
    "dimInput = xTrain.shape[1:]\n",
    "\n",
    "xTrain = xTrain.astype('float32') / 255.\n",
    "xTest = xTest.astype('float32') / 255.\n",
    "xTrain\n",
    "\n",
    "xTrain = np.reshape(xTrain, [-1, *dimInput])\n",
    "xTest = np.reshape(xTest, [-1, *dimInput])\n",
    "xTrainNoise = addNoise(xTrain, factNoise=factNoise)\n",
    "xTestNoise = addNoise(xTest, factNoise=factNoise)\n",
    "print(xTrain.shape)\n",
    "print(xTest.shape)"
   ]
  },
  {
   "cell_type": "markdown",
   "metadata": {},
   "source": [
    "### Construct the encoder and decoder"
   ]
  },
  {
   "cell_type": "code",
   "execution_count": 4,
   "metadata": {},
   "outputs": [
    {
     "name": "stdout",
     "output_type": "stream",
     "text": [
      "__________________________________________________________________________________________________\n",
      "Layer (type)                    Output Shape         Param #     Connected to                     \n",
      "==================================================================================================\n",
      "input_1 (InputLayer)            (None, 32, 32, 3)    0                                            \n",
      "__________________________________________________________________________________________________\n",
      "conv2d_1 (Conv2D)               (None, 16, 16, 8)    224         input_1[0][0]                    \n",
      "__________________________________________________________________________________________________\n",
      "conv2d_2 (Conv2D)               (None, 8, 8, 16)     1168        conv2d_1[0][0]                   \n",
      "__________________________________________________________________________________________________\n",
      "conv2d_3 (Conv2D)               (None, 4, 4, 32)     4640        conv2d_2[0][0]                   \n",
      "__________________________________________________________________________________________________\n",
      "conv2d_4 (Conv2D)               (None, 2, 2, 64)     18496       conv2d_3[0][0]                   \n",
      "__________________________________________________________________________________________________\n",
      "flatten_1 (Flatten)             (None, 256)          0           conv2d_4[0][0]                   \n",
      "__________________________________________________________________________________________________\n",
      "dense_1 (Dense)                 (None, 128)          32896       flatten_1[0][0]                  \n",
      "__________________________________________________________________________________________________\n",
      "dense_2 (Dense)                 (None, 32)           4128        dense_1[0][0]                    \n",
      "__________________________________________________________________________________________________\n",
      "dense_3 (Dense)                 (None, 32)           4128        dense_1[0][0]                    \n",
      "__________________________________________________________________________________________________\n",
      "lambda_1 (Lambda)               (None, 32)           0           dense_2[0][0]                    \n",
      "                                                                 dense_3[0][0]                    \n",
      "==================================================================================================\n",
      "Total params: 65,680\n",
      "Trainable params: 65,680\n",
      "Non-trainable params: 0\n",
      "__________________________________________________________________________________________________\n",
      "_________________________________________________________________\n",
      "Layer (type)                 Output Shape              Param #   \n",
      "=================================================================\n",
      "decoder_input (InputLayer)   (None, 32)                0         \n",
      "_________________________________________________________________\n",
      "dense_4 (Dense)              (None, 128)               4224      \n",
      "_________________________________________________________________\n",
      "dense_5 (Dense)              (None, 256)               33024     \n",
      "_________________________________________________________________\n",
      "reshape_1 (Reshape)          (None, 2, 2, 64)          0         \n",
      "_________________________________________________________________\n",
      "conv2d_transpose_1 (Conv2DTr (None, 4, 4, 64)          36928     \n",
      "_________________________________________________________________\n",
      "conv2d_transpose_2 (Conv2DTr (None, 8, 8, 32)          18464     \n",
      "_________________________________________________________________\n",
      "conv2d_transpose_3 (Conv2DTr (None, 16, 16, 16)        4624      \n",
      "_________________________________________________________________\n",
      "conv2d_transpose_4 (Conv2DTr (None, 32, 32, 8)         1160      \n",
      "_________________________________________________________________\n",
      "conv2d_transpose_5 (Conv2DTr (None, 32, 32, 3)         219       \n",
      "_________________________________________________________________\n",
      "decoder_output (Activation)  (None, 32, 32, 3)         0         \n",
      "=================================================================\n",
      "Total params: 98,643\n",
      "Trainable params: 98,643\n",
      "Non-trainable params: 0\n",
      "_________________________________________________________________\n"
     ]
    }
   ],
   "source": [
    "inputs = Input(shape=(dimInput))  # adapt this if using `channels_first` image data format\n",
    "x = inputs\n",
    "# Stack of Conv2D blocks\n",
    "# Notes:\n",
    "# 1) Use Batch Normalization before ReLU on deep networks\n",
    "# 2) Use MaxPooling2D as alternative to strides>1\n",
    "# - faster but not as good as strides>1\n",
    "for filters in layer_filters:\n",
    "    x = Conv2D(filters=filters,\n",
    "               kernel_size=sizeKernel,\n",
    "               strides=2,\n",
    "               activation='relu',\n",
    "               padding='same')(x)\n",
    "\n",
    "# Shape info needed to build Decoder Model\n",
    "shape = K.int_shape(x)\n",
    "\n",
    "# Generate the latent vector\n",
    "x = Flatten()(x)\n",
    "x = Dense(dimInter, activation='relu')(x)\n",
    "zMean = Dense(dimEncode)(x)\n",
    "zSigmaLog = Dense(dimEncode)(x) # log for linear dense\n",
    "\n",
    "def sampling(args):\n",
    "    zMean, zSigmaLog = args\n",
    "    epsilon = K.random_normal(shape=(K.shape(zMean)[0], dimEncode),\n",
    "                              mean=0., stddev=stdEps)\n",
    "    return zMean + K.exp(zSigmaLog) * epsilon\n",
    "\n",
    "# note that \"output_shape\" isn't necessary with the TensorFlow backend\n",
    "# so you could write `Lambda(sampling)([z_mean, z_log_sigma])`\n",
    "# z = Lambda(sampling, output_shape=(latent_dim,))([z_mean, z_log_sigma])\n",
    "z = Lambda(sampling)([zMean, zSigmaLog])\n",
    "encoder = Model(inputs, z, name='encoder')\n",
    "encoder.summary()\n",
    "\n",
    "# Build the Decoder Model\n",
    "inputLatent = Input(shape=(dimEncode,), name='decoder_input')\n",
    "x = Dense(dimInter, activation='relu')(inputLatent)\n",
    "x = Dense(shape[1] * shape[2] * shape[3])(x)\n",
    "x = Reshape((shape[1], shape[2], shape[3]))(x)\n",
    "\n",
    "# Stack of Transposed Conv2D blocks\n",
    "# Notes:\n",
    "# 1) Use Batch Normalization before ReLU on deep networks\n",
    "# 2) Use UpSampling2D as alternative to strides>1\n",
    "# - faster but not as good as strides>1\n",
    "for filters in layer_filters[::-1]:\n",
    "    x = Conv2DTranspose(filters=filters,\n",
    "                        kernel_size=sizeKernel,\n",
    "                        strides=2,\n",
    "                        activation='relu',\n",
    "                        padding='same')(x)\n",
    "\n",
    "x = Conv2DTranspose(filters=3,\n",
    "                    kernel_size=sizeKernel,\n",
    "                    padding='same')(x)\n",
    "\n",
    "outputs = Activation('sigmoid', name='decoder_output')(x)\n",
    "\n",
    "# Instantiate Decoder Model\n",
    "decoder = Model(inputLatent, outputs, name='decoder')\n",
    "decoder.summary()"
   ]
  },
  {
   "cell_type": "markdown",
   "metadata": {},
   "source": [
    "## Construct the autoencoder"
   ]
  },
  {
   "cell_type": "code",
   "execution_count": 5,
   "metadata": {},
   "outputs": [
    {
     "name": "stdout",
     "output_type": "stream",
     "text": [
      "_________________________________________________________________\n",
      "Layer (type)                 Output Shape              Param #   \n",
      "=================================================================\n",
      "input_1 (InputLayer)         (None, 32, 32, 3)         0         \n",
      "_________________________________________________________________\n",
      "encoder (Model)              (None, 32)                65680     \n",
      "_________________________________________________________________\n",
      "decoder (Model)              (None, 32, 32, 3)         98643     \n",
      "=================================================================\n",
      "Total params: 164,323\n",
      "Trainable params: 164,323\n",
      "Non-trainable params: 0\n",
      "_________________________________________________________________\n"
     ]
    }
   ],
   "source": [
    "# Autoencoder = Encoder + Decoder\n",
    "# Instantiate Autoencoder Model\n",
    "autoencoder = Model(inputs, decoder(encoder(inputs)), name='autoencoder')\n",
    "autoencoder.summary()"
   ]
  },
  {
   "cell_type": "markdown",
   "metadata": {},
   "source": [
    "## Compile and train"
   ]
  },
  {
   "cell_type": "code",
   "execution_count": 6,
   "metadata": {
    "scrolled": true
   },
   "outputs": [
    {
     "name": "stdout",
     "output_type": "stream",
     "text": [
      "Train on 50000 samples, validate on 10000 samples\n",
      "Epoch 1/100\n",
      "50000/50000 [==============================] - 30s 601us/step - loss: 0.6464 - val_loss: 0.6366\n",
      "Epoch 2/100\n",
      "50000/50000 [==============================] - 28s 551us/step - loss: 0.6345 - val_loss: 0.6340\n",
      "Epoch 3/100\n",
      "50000/50000 [==============================] - 27s 533us/step - loss: 0.6323 - val_loss: 0.6319\n",
      "Epoch 4/100\n",
      "50000/50000 [==============================] - 26s 530us/step - loss: 0.6309 - val_loss: 0.6313\n",
      "Epoch 5/100\n",
      "50000/50000 [==============================] - 27s 538us/step - loss: 0.6296 - val_loss: 0.6296\n",
      "Epoch 6/100\n",
      "50000/50000 [==============================] - 27s 538us/step - loss: 0.6287 - val_loss: 0.6294\n",
      "Epoch 7/100\n",
      "50000/50000 [==============================] - 26s 529us/step - loss: 0.6282 - val_loss: 0.6283\n",
      "Epoch 8/100\n",
      "50000/50000 [==============================] - 27s 532us/step - loss: 0.6274 - val_loss: 0.6279\n",
      "Epoch 9/100\n",
      "50000/50000 [==============================] - 26s 528us/step - loss: 0.6268 - val_loss: 0.6273\n",
      "Epoch 10/100\n",
      "50000/50000 [==============================] - 27s 533us/step - loss: 0.6264 - val_loss: 0.6270\n",
      "Epoch 11/100\n",
      "50000/50000 [==============================] - 27s 547us/step - loss: 0.6263 - val_loss: 0.6268\n",
      "Epoch 12/100\n",
      "50000/50000 [==============================] - 26s 528us/step - loss: 0.6261 - val_loss: 0.6267\n",
      "Epoch 13/100\n",
      "50000/50000 [==============================] - 27s 535us/step - loss: 0.6258 - val_loss: 0.6271\n",
      "Epoch 14/100\n",
      "50000/50000 [==============================] - 27s 541us/step - loss: 0.6257 - val_loss: 0.6264\n",
      "Epoch 15/100\n",
      "50000/50000 [==============================] - 27s 541us/step - loss: 0.6255 - val_loss: 0.6263\n",
      "Epoch 16/100\n",
      "50000/50000 [==============================] - 26s 526us/step - loss: 0.6253 - val_loss: 0.6267\n",
      "Epoch 17/100\n",
      "50000/50000 [==============================] - 26s 515us/step - loss: 0.6252 - val_loss: 0.6259\n",
      "Epoch 18/100\n",
      "50000/50000 [==============================] - 26s 517us/step - loss: 0.6251 - val_loss: 0.6265\n",
      "Epoch 19/100\n",
      "50000/50000 [==============================] - 26s 513us/step - loss: 0.6250 - val_loss: 0.6267\n",
      "Epoch 20/100\n",
      "50000/50000 [==============================] - 26s 515us/step - loss: 0.6249 - val_loss: 0.6258\n",
      "Epoch 21/100\n",
      "50000/50000 [==============================] - 26s 515us/step - loss: 0.6248 - val_loss: 0.6258\n",
      "Epoch 22/100\n",
      "50000/50000 [==============================] - 26s 517us/step - loss: 0.6248 - val_loss: 0.6257\n",
      "Epoch 23/100\n",
      "50000/50000 [==============================] - 26s 514us/step - loss: 0.6247 - val_loss: 0.6257\n",
      "Epoch 24/100\n",
      "50000/50000 [==============================] - 26s 514us/step - loss: 0.6246 - val_loss: 0.6262\n",
      "Epoch 25/100\n",
      "50000/50000 [==============================] - 26s 517us/step - loss: 0.6245 - val_loss: 0.6254\n",
      "Epoch 26/100\n",
      "50000/50000 [==============================] - 26s 515us/step - loss: 0.6245 - val_loss: 0.6256\n",
      "Epoch 27/100\n",
      "50000/50000 [==============================] - 26s 514us/step - loss: 0.6244 - val_loss: 0.6251\n",
      "Epoch 28/100\n",
      "50000/50000 [==============================] - 26s 516us/step - loss: 0.6244 - val_loss: 0.6253\n",
      "Epoch 29/100\n",
      "50000/50000 [==============================] - 25s 504us/step - loss: 0.6244 - val_loss: 0.6252\n",
      "Epoch 30/100\n",
      "50000/50000 [==============================] - 25s 494us/step - loss: 0.6243 - val_loss: 0.6256\n",
      "Epoch 31/100\n",
      "50000/50000 [==============================] - 24s 488us/step - loss: 0.6243 - val_loss: 0.6252\n",
      "Epoch 32/100\n",
      "50000/50000 [==============================] - 25s 492us/step - loss: 0.6243 - val_loss: 0.6256\n",
      "Epoch 33/100\n",
      "50000/50000 [==============================] - 25s 495us/step - loss: 0.6242 - val_loss: 0.6255\n",
      "Epoch 34/100\n",
      "50000/50000 [==============================] - 24s 489us/step - loss: 0.6242 - val_loss: 0.6253\n",
      "Epoch 35/100\n",
      "50000/50000 [==============================] - 25s 505us/step - loss: 0.6242 - val_loss: 0.6252\n",
      "Epoch 36/100\n",
      "50000/50000 [==============================] - 26s 514us/step - loss: 0.6242 - val_loss: 0.6250\n",
      "Epoch 37/100\n",
      "50000/50000 [==============================] - 25s 509us/step - loss: 0.6242 - val_loss: 0.6254\n",
      "Epoch 38/100\n",
      "50000/50000 [==============================] - 26s 513us/step - loss: 0.6241 - val_loss: 0.6250\n",
      "Epoch 39/100\n",
      "50000/50000 [==============================] - 26s 516us/step - loss: 0.6242 - val_loss: 0.6252\n",
      "Epoch 40/100\n",
      "50000/50000 [==============================] - 26s 513us/step - loss: 0.6241 - val_loss: 0.6254\n",
      "Epoch 41/100\n",
      "50000/50000 [==============================] - 25s 510us/step - loss: 0.6241 - val_loss: 0.6254\n",
      "Epoch 42/100\n",
      "50000/50000 [==============================] - 26s 512us/step - loss: 0.6241 - val_loss: 0.6252\n",
      "Epoch 43/100\n",
      "50000/50000 [==============================] - 26s 513us/step - loss: 0.6241 - val_loss: 0.6249\n",
      "Epoch 44/100\n",
      "50000/50000 [==============================] - 26s 511us/step - loss: 0.6241 - val_loss: 0.6254\n",
      "Epoch 45/100\n",
      "50000/50000 [==============================] - 26s 512us/step - loss: 0.6240 - val_loss: 0.6250\n",
      "Epoch 46/100\n",
      "50000/50000 [==============================] - 26s 511us/step - loss: 0.6240 - val_loss: 0.6255\n",
      "Epoch 47/100\n",
      "50000/50000 [==============================] - 26s 510us/step - loss: 0.6240 - val_loss: 0.6249\n",
      "Epoch 48/100\n",
      "50000/50000 [==============================] - 26s 512us/step - loss: 0.6240 - val_loss: 0.6254\n",
      "Epoch 49/100\n",
      "50000/50000 [==============================] - 26s 513us/step - loss: 0.6240 - val_loss: 0.6252\n",
      "Epoch 50/100\n",
      "50000/50000 [==============================] - 25s 505us/step - loss: 0.6240 - val_loss: 0.6254\n",
      "Epoch 51/100\n",
      "50000/50000 [==============================] - 24s 483us/step - loss: 0.6239 - val_loss: 0.6251\n",
      "Epoch 52/100\n",
      "50000/50000 [==============================] - 21s 427us/step - loss: 0.6240 - val_loss: 0.6252\n",
      "Epoch 53/100\n",
      "50000/50000 [==============================] - 21s 416us/step - loss: 0.6239 - val_loss: 0.6250\n",
      "Epoch 54/100\n",
      "50000/50000 [==============================] - 20s 405us/step - loss: 0.6239 - val_loss: 0.6249\n",
      "Epoch 55/100\n",
      "50000/50000 [==============================] - 21s 412us/step - loss: 0.6239 - val_loss: 0.6248\n",
      "Epoch 56/100\n",
      "50000/50000 [==============================] - 21s 410us/step - loss: 0.6238 - val_loss: 0.6254\n",
      "Epoch 57/100\n",
      "50000/50000 [==============================] - 21s 412us/step - loss: 0.6239 - val_loss: 0.6250\n",
      "Epoch 58/100\n",
      "50000/50000 [==============================] - 21s 413us/step - loss: 0.6238 - val_loss: 0.6250\n",
      "Epoch 59/100\n",
      "50000/50000 [==============================] - 21s 414us/step - loss: 0.6238 - val_loss: 0.6251\n",
      "Epoch 60/100\n",
      "50000/50000 [==============================] - 21s 411us/step - loss: 0.6238 - val_loss: 0.6251\n",
      "Epoch 61/100\n",
      "50000/50000 [==============================] - 21s 412us/step - loss: 0.6238 - val_loss: 0.6248\n",
      "Epoch 62/100\n",
      "50000/50000 [==============================] - 20s 408us/step - loss: 0.6238 - val_loss: 0.6249\n",
      "Epoch 63/100\n",
      "50000/50000 [==============================] - 21s 414us/step - loss: 0.6238 - val_loss: 0.6247\n",
      "Epoch 64/100\n",
      "50000/50000 [==============================] - 20s 407us/step - loss: 0.6238 - val_loss: 0.6250\n",
      "Epoch 65/100\n",
      "50000/50000 [==============================] - 21s 411us/step - loss: 0.6238 - val_loss: 0.6252\n",
      "Epoch 66/100\n",
      "50000/50000 [==============================] - 21s 410us/step - loss: 0.6238 - val_loss: 0.6250\n",
      "Epoch 67/100\n",
      "50000/50000 [==============================] - 20s 405us/step - loss: 0.6237 - val_loss: 0.6248\n",
      "Epoch 68/100\n",
      "50000/50000 [==============================] - 21s 410us/step - loss: 0.6238 - val_loss: 0.6254\n",
      "Epoch 69/100\n",
      "50000/50000 [==============================] - 21s 411us/step - loss: 0.6237 - val_loss: 0.6249\n",
      "Epoch 70/100\n",
      "50000/50000 [==============================] - 20s 407us/step - loss: 0.6237 - val_loss: 0.6255\n",
      "Epoch 71/100\n",
      "50000/50000 [==============================] - 20s 404us/step - loss: 0.6237 - val_loss: 0.6250\n",
      "Epoch 72/100\n",
      "50000/50000 [==============================] - 20s 407us/step - loss: 0.6237 - val_loss: 0.6249\n",
      "Epoch 73/100\n",
      "50000/50000 [==============================] - 21s 412us/step - loss: 0.6237 - val_loss: 0.6250\n",
      "Epoch 74/100\n",
      "50000/50000 [==============================] - 20s 409us/step - loss: 0.6237 - val_loss: 0.6249\n",
      "Epoch 75/100\n",
      "50000/50000 [==============================] - 20s 407us/step - loss: 0.6237 - val_loss: 0.6247\n"
     ]
    },
    {
     "name": "stdout",
     "output_type": "stream",
     "text": [
      "Epoch 76/100\n",
      "50000/50000 [==============================] - 20s 408us/step - loss: 0.6236 - val_loss: 0.6250\n",
      "Epoch 77/100\n",
      "50000/50000 [==============================] - 21s 415us/step - loss: 0.6237 - val_loss: 0.6249\n",
      "Epoch 78/100\n",
      "50000/50000 [==============================] - 21s 417us/step - loss: 0.6236 - val_loss: 0.6248\n",
      "Epoch 79/100\n",
      "50000/50000 [==============================] - 21s 427us/step - loss: 0.6237 - val_loss: 0.6250\n",
      "Epoch 80/100\n",
      "50000/50000 [==============================] - 20s 403us/step - loss: 0.6237 - val_loss: 0.6247\n",
      "Epoch 81/100\n",
      "50000/50000 [==============================] - 21s 411us/step - loss: 0.6236 - val_loss: 0.6251\n",
      "Epoch 82/100\n",
      "50000/50000 [==============================] - 21s 415us/step - loss: 0.6237 - val_loss: 0.6249\n",
      "Epoch 83/100\n",
      "50000/50000 [==============================] - 21s 412us/step - loss: 0.6236 - val_loss: 0.6249\n",
      "Epoch 84/100\n",
      "50000/50000 [==============================] - 21s 413us/step - loss: 0.6236 - val_loss: 0.6248\n",
      "Epoch 85/100\n",
      "50000/50000 [==============================] - 24s 488us/step - loss: 0.6236 - val_loss: 0.6247\n",
      "Epoch 86/100\n",
      "50000/50000 [==============================] - 25s 498us/step - loss: 0.6236 - val_loss: 0.6249\n",
      "Epoch 87/100\n",
      "50000/50000 [==============================] - 25s 495us/step - loss: 0.6236 - val_loss: 0.6248\n",
      "Epoch 88/100\n",
      "50000/50000 [==============================] - 25s 492us/step - loss: 0.6236 - val_loss: 0.6246\n",
      "Epoch 89/100\n",
      "50000/50000 [==============================] - 25s 500us/step - loss: 0.6236 - val_loss: 0.6248\n",
      "Epoch 90/100\n",
      "50000/50000 [==============================] - 25s 497us/step - loss: 0.6236 - val_loss: 0.6252\n",
      "Epoch 91/100\n",
      "50000/50000 [==============================] - 25s 500us/step - loss: 0.6236 - val_loss: 0.6248\n",
      "Epoch 92/100\n",
      "50000/50000 [==============================] - 25s 493us/step - loss: 0.6236 - val_loss: 0.6250\n",
      "Epoch 93/100\n",
      "50000/50000 [==============================] - 25s 505us/step - loss: 0.6235 - val_loss: 0.6248\n",
      "Epoch 94/100\n",
      "50000/50000 [==============================] - 25s 501us/step - loss: 0.6236 - val_loss: 0.6247\n",
      "Epoch 95/100\n",
      "50000/50000 [==============================] - 25s 508us/step - loss: 0.6236 - val_loss: 0.6248\n",
      "Epoch 96/100\n",
      "50000/50000 [==============================] - 25s 502us/step - loss: 0.6235 - val_loss: 0.6251\n",
      "Epoch 97/100\n",
      "50000/50000 [==============================] - 25s 502us/step - loss: 0.6236 - val_loss: 0.6249\n",
      "Epoch 98/100\n",
      "50000/50000 [==============================] - 25s 508us/step - loss: 0.6236 - val_loss: 0.6249\n",
      "Epoch 99/100\n",
      "50000/50000 [==============================] - 25s 501us/step - loss: 0.6235 - val_loss: 0.6250\n",
      "Epoch 100/100\n",
      "50000/50000 [==============================] - 25s 501us/step - loss: 0.6235 - val_loss: 0.6248\n"
     ]
    }
   ],
   "source": [
    "def lossVAE(zMean, zSigmaLog):\n",
    "    def loss(tensorInput, tensorDecode):\n",
    "        lossRecon =  metrics.binary_crossentropy(K.flatten(tensorInput), K.flatten(tensorDecode))\n",
    "        lossKL = - 0.5 * K.sum(1 + 2 * zSigmaLog - K.square(zMean) - K.square(K.exp(zSigmaLog)), axis=-1)\n",
    "#         lossKL = - 0.5 * K.mean(1 + zSigmaLog - K.square(zMean) - K.exp(zSigmaLog), axis=-1)\n",
    "        return ratRecon * lossRecon + (1 - ratRecon) * lossKL\n",
    "    return loss\n",
    "\n",
    "autoencoder.compile(optimizer=nameOptim, loss=lossVAE(zMean, zSigmaLog))\n",
    "\n",
    "# Train the autoencoder\n",
    "tic = time()\n",
    "history = autoencoder.fit(xTrainNoise, xTrain,\n",
    "                epochs=numEpochs,\n",
    "                batch_size=sizeBatch,\n",
    "                shuffle=True,\n",
    "                validation_data=(xTest, xTest))\n",
    "timeTrain = time() - tic"
   ]
  },
  {
   "cell_type": "markdown",
   "metadata": {},
   "source": [
    "## Show the historical training progress "
   ]
  },
  {
   "cell_type": "code",
   "execution_count": 7,
   "metadata": {},
   "outputs": [
    {
     "data": {
      "image/png": "[encoded data removed]",
      "text/plain": [
       "<Figure size 432x288 with 1 Axes>"
      ]
     },
     "metadata": {},
     "output_type": "display_data"
    }
   ],
   "source": [
    "# print(\"traing consumed: \" + str(timeTrain) + \" seconds\")\n",
    "plotProgress(history)"
   ]
  },
  {
   "cell_type": "markdown",
   "metadata": {},
   "source": [
    "## Get the encoding and decoding results of testing data, and get the mean/std of the encoding "
   ]
  },
  {
   "cell_type": "code",
   "execution_count": 8,
   "metadata": {},
   "outputs": [],
   "source": [
    "# encode and decode some digits\n",
    "# note that we take them from the *test* set\n",
    "encodeTest = encoder.predict(xTestNoise)\n",
    "decodeTest = decoder.predict(encodeTest)\n",
    "meanEncTest = np.mean(encodeTest, axis=0)\n",
    "stdEncTest = np.std(encodeTest, axis=0)"
   ]
  },
  {
   "cell_type": "markdown",
   "metadata": {},
   "source": [
    "## Compare original digitals with the decoding results"
   ]
  },
  {
   "cell_type": "code",
   "execution_count": 9,
   "metadata": {},
   "outputs": [
    {
     "ename": "TypeError",
     "evalue": "plotCompDecode() got an unexpected keyword argument 'sizeReshape'",
     "output_type": "error",
     "traceback": [
      "\u001b[0;31m---------------------------------------------------------------------------\u001b[0m",
      "\u001b[0;31mTypeError\u001b[0m                                 Traceback (most recent call last)",
      "\u001b[0;32m<ipython-input-9-a29d0aef2bb2>\u001b[0m in \u001b[0;36m<module>\u001b[0;34m()\u001b[0m\n\u001b[0;32m----> 1\u001b[0;31m \u001b[0mplotCompDecode\u001b[0m\u001b[0;34m(\u001b[0m\u001b[0mxTest\u001b[0m\u001b[0;34m,\u001b[0m \u001b[0mdecodeTest\u001b[0m\u001b[0;34m,\u001b[0m \u001b[0msizeReshape\u001b[0m \u001b[0;34m=\u001b[0m \u001b[0;34m(\u001b[0m\u001b[0;36m32\u001b[0m\u001b[0;34m,\u001b[0m \u001b[0;36m32\u001b[0m\u001b[0;34m,\u001b[0m \u001b[0;36m3\u001b[0m\u001b[0;34m)\u001b[0m\u001b[0;34m)\u001b[0m\u001b[0;34m\u001b[0m\u001b[0m\n\u001b[0m",
      "\u001b[0;31mTypeError\u001b[0m: plotCompDecode() got an unexpected keyword argument 'sizeReshape'"
     ]
    }
   ],
   "source": [
    "plotCompDecode(xTest, decodeTest, sizeReshape = (32, 32, 3))"
   ]
  },
  {
   "cell_type": "markdown",
   "metadata": {},
   "source": [
    "## Plot the scatter of the encoding space"
   ]
  },
  {
   "cell_type": "code",
   "execution_count": null,
   "metadata": {
    "scrolled": false
   },
   "outputs": [],
   "source": [
    "xlim = (meanEncTest[0] - 4*stdEncTest[0], meanEncTest[0] + 4*stdEncTest[0])\n",
    "ylim = (meanEncTest[1] - 4*stdEncTest[1], meanEncTest[1] + 4*stdEncTest[1])\n",
    "\n",
    "plotScatterEncode(encodeTest, yTest, xlim, ylim, numShow=10000)\n",
    "scoreSilh = silhouette_score(encodeTest, yTest)  "
   ]
  },
  {
   "cell_type": "markdown",
   "metadata": {},
   "source": [
    "## Plot the decoding results from the encoding scatter "
   ]
  },
  {
   "cell_type": "code",
   "execution_count": null,
   "metadata": {},
   "outputs": [],
   "source": [
    "# display a 2D manifold of the digits\n",
    "plotScatterDecode(decoder, (32,32,3), xlim, ylim)"
   ]
  },
  {
   "cell_type": "code",
   "execution_count": null,
   "metadata": {},
   "outputs": [],
   "source": [
    "print(timeTrain, history.history[\"loss\"][numEpochs-1], history.history[\"val_loss\"][numEpochs-1], scoreSilh)"
   ]
  },
  {
   "cell_type": "code",
   "execution_count": null,
   "metadata": {},
   "outputs": [],
   "source": [
    "(xTrain, _), (xTest, yTest) = mnist.load_data()"
   ]
  },
  {
   "cell_type": "code",
   "execution_count": null,
   "metadata": {},
   "outputs": [],
   "source": [
    "xTest.shape"
   ]
  },
  {
   "cell_type": "code",
   "execution_count": 10,
   "metadata": {},
   "outputs": [
    {
     "data": {
      "text/plain": [
       "[-1, 32, 32, 3]"
      ]
     },
     "execution_count": 10,
     "metadata": {},
     "output_type": "execute_result"
    }
   ],
   "source": [
    "[-1, *dimInput]"
   ]
  },
  {
   "cell_type": "code",
   "execution_count": null,
   "metadata": {},
   "outputs": [],
   "source": []
  }
 ],
 "metadata": {
  "kernelspec": {
   "display_name": "Python 3",
   "language": "python",
   "name": "python3"
  },
  "language_info": {
   "codemirror_mode": {
    "name": "ipython",
    "version": 3
   },
   "file_extension": ".py",
   "mimetype": "text/x-python",
   "name": "python",
   "nbconvert_exporter": "python",
   "pygments_lexer": "ipython3",
   "version": "3.6.5"
  }
 },
 "nbformat": 4,
 "nbformat_minor": 2
}
