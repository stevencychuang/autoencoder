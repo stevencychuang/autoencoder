{
 "cells": [
  {
   "cell_type": "code",
   "execution_count": 1,
   "metadata": {},
   "outputs": [],
   "source": [
    "import numpy as np\n",
    "import sys  \n",
    "import unittest\n",
    "sys.path.append('../')\n",
    "from util.util import *"
   ]
  },
  {
   "cell_type": "code",
   "execution_count": 2,
   "metadata": {},
   "outputs": [],
   "source": [
    "class Test_util(unittest.TestCase):\n",
    "    \n",
    "    def test_compReconst(self):\n",
    "        # the 1st case, the error should be 0\n",
    "        x = np.array([[[1,2,3,4],[2,3,4,5]],\n",
    "                      [[2,3,4,5],[3,4,5,6]],\n",
    "                      [[3,4,5,6],[4,5,6,7]]])\n",
    "        decode = np.array([[[1,2,3,4],[2,3,4,5]],\n",
    "                          [[2,3,4,5],[3,4,5,6]],\n",
    "                          [[3,4,5,6],[4,5,6,7]]])\n",
    "        err = compReconst(x, decode)\n",
    "        print(err)\n",
    "\n",
    "        # the 2nd case, the error should be 0.041666666666666664\n",
    "        x = np.array([[[1,2,3,4],[2,3,4,5]],\n",
    "                      [[2,3,4,5],[3,4,5,6]],\n",
    "                      [[3,4,5,6],[4,5,6,7]]])\n",
    "        decode = np.array([[[1,2,3,4],[2,3,4,5]],\n",
    "                           [[2,3,4,5],[3,4,5,6]],\n",
    "                           [[3,4,5,6],[4,5,6,6]]])\n",
    "        err = compReconst(x, decode)\n",
    "        print(err)\n",
    "        \n",
    "        # the 3rd case, the error should be the same with the 2nd\n",
    "        x = np.array([[[[1,2],[3,4]],[[2,3],[4,5]]],\n",
    "                      [[[2,3],[4,5]],[[3,4],[5,6]]],\n",
    "                      [[[3,4],[5,6]],[[4,5],[6,7]]]])\n",
    "        decode = np.array([[[[1,2],[3,4]],[[2,3],[4,5]]],\n",
    "                           [[[2,3],[4,5]],[[3,4],[5,6]]],\n",
    "                           [[[3,4],[5,6]],[[4,5],[6,6]]]])\n",
    "        err = compReconst(x, decode)\n",
    "        print(err)\n",
    "        \n",
    "        # the 4th case, the error should be 1.4142135623730951\n",
    "        x = np.array([[1,0],[0,1]])\n",
    "        decode = np.array([[0.9,0.1],[0.9,0.1]])\n",
    "        err = compReconst(x, decode)\n",
    "        print(err)\n",
    "        \n",
    "        # the 5th case, the error should be 2\n",
    "        x = np.array([0,0,0,0])\n",
    "        decode = np.array([0,-2,0,2])\n",
    "        err = compReconst(x, decode, method='mse')\n",
    "        print(err)\n",
    "        \n",
    "        # the 6th case, the error should be 1\n",
    "        x = np.array([0,0,0,0])\n",
    "        decode = np.array([0,-2,0,2])\n",
    "        err = compReconst(x, decode, method='mae')\n",
    "        print(err)"
   ]
  },
  {
   "cell_type": "code",
   "execution_count": 3,
   "metadata": {},
   "outputs": [
    {
     "name": "stdout",
     "output_type": "stream",
     "text": [
      "-46.6727071268678\n",
      "-46.31302220727087\n",
      "-46.31302220727087\n",
      "1.203972804325936\n",
      "2.0\n",
      "1.0\n"
     ]
    }
   ],
   "source": [
    "if __name__ == '__main__':\n",
    "    Test_util().test_compReconst()"
   ]
  },
  {
   "cell_type": "code",
   "execution_count": null,
   "metadata": {},
   "outputs": [],
   "source": []
  }
 ],
 "metadata": {
  "kernelspec": {
   "display_name": "Python 3",
   "language": "python",
   "name": "python3"
  },
  "language_info": {
   "codemirror_mode": {
    "name": "ipython",
    "version": 3
   },
   "file_extension": ".py",
   "mimetype": "text/x-python",
   "name": "python",
   "nbconvert_exporter": "python",
   "pygments_lexer": "ipython3",
   "version": "3.6.6"
  }
 },
 "nbformat": 4,
 "nbformat_minor": 2
}
