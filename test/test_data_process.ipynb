{
 "cells": [
  {
   "cell_type": "code",
   "execution_count": 1,
   "metadata": {},
   "outputs": [
    {
     "name": "stdout",
     "output_type": "stream",
     "text": [
      "importing Jupyter notebook from ../util/data_process.ipynb\n"
     ]
    }
   ],
   "source": [
    "import numpy as np\n",
    "import unittest\n",
    "from sklearn import datasets\n",
    "import sys  \n",
    "sys.path.append('../')\n",
    "from util import import_notebook\n",
    "from util.data_process import *"
   ]
  },
  {
   "cell_type": "code",
   "execution_count": 2,
   "metadata": {},
   "outputs": [],
   "source": [
    "class Test_data_process(unittest.TestCase):\n",
    "    \n",
    "    def test_dummy(self):\n",
    "        y = np.array([0, 1, 2, 3])\n",
    "        y_dummy = dummy(y, 4)\n",
    "        msg = \"elements in array are not equal\"\n",
    "        self.assertListEqual(y_dummy[0].tolist(), [1, 0, 0, 0], msg)\n",
    "        self.assertListEqual(y_dummy[1].tolist(), [0, 1, 0, 0], msg)\n",
    "        self.assertListEqual(y_dummy[2].tolist(), [0, 0, 1, 0], msg)\n",
    "        self.assertListEqual(y_dummy[3].tolist(), [0, 0, 0, 1], msg)\n",
    "        \n",
    "    def test_inv_dummy(self):\n",
    "        y = np.array([[0, 1, 0],\n",
    "                      [1, 0, 0],\n",
    "                      [0, 1, 0],\n",
    "                      [0, 0, 1],\n",
    "                      [0, 0, 0]])\n",
    "        y_inv = inv_dummy(y)\n",
    "        msg = \"elements in array are not equal\"\n",
    "        self.assertListEqual(y_inv.tolist(), [1, 0, 1, 2, 3], msg)\n",
    "        \n",
    "    def test_dummy(self):\n",
    "        y = np.array([0, 1, 2, 3])\n",
    "        y_dummy = dummy(y, 4)\n",
    "        msg = \"elements in array are not equal\"\n",
    "        self.assertListEqual(y_dummy[0].tolist(), [1, 0, 0, 0], msg)\n",
    "        self.assertListEqual(y_dummy[1].tolist(), [0, 1, 0, 0], msg)\n",
    "        self.assertListEqual(y_dummy[2].tolist(), [0, 0, 1, 0], msg)\n",
    "        self.assertListEqual(y_dummy[3].tolist(), [0, 0, 0, 1], msg)\n",
    "    \n",
    "    def test_split_data(self):\n",
    "        x = np.array([[1, 2],\n",
    "              [2, 3],\n",
    "              [3, 4],\n",
    "              [4, 5]])\n",
    "        y = np.array([0, 1, 2, 3])\n",
    "        print(split_data(x))\n",
    "        print(split_data(x, y))\n",
    "        print(split_data(x, y, ratio=[0.5, 0.25]))\n",
    "        \n",
    "        iris = datasets.load_iris()\n",
    "        data = iris.data[45:55]\n",
    "        label = iris.target[45:55]\n",
    "        print(data)\n",
    "        print(label)\n",
    "        \n",
    "        print(split_data(data))\n",
    "        print(split_data(data, label))\n",
    "        print(split_data(data, label, ratio=[0.75, 0.25]))"
   ]
  },
  {
   "cell_type": "code",
   "execution_count": 3,
   "metadata": {},
   "outputs": [
    {
     "name": "stdout",
     "output_type": "stream",
     "text": [
      "(array([[3, 4],\n",
      "       [2, 3],\n",
      "       [4, 5]]), array([[1, 2]]), array([], shape=(0, 2), dtype=int64))\n",
      "((array([[2, 3],\n",
      "       [1, 2],\n",
      "       [4, 5]]), array([1, 0, 3])), (array([[3, 4]]), array([2])), (array([], shape=(0, 2), dtype=int64), array([], dtype=int64)))\n",
      "((array([[2, 3],\n",
      "       [3, 4]]), array([1, 2])), (array([[1, 2]]), array([0])), (array([[4, 5]]), array([3])))\n",
      "[[4.8 3.  1.4 0.3]\n",
      " [5.1 3.8 1.6 0.2]\n",
      " [4.6 3.2 1.4 0.2]\n",
      " [5.3 3.7 1.5 0.2]\n",
      " [5.  3.3 1.4 0.2]\n",
      " [7.  3.2 4.7 1.4]\n",
      " [6.4 3.2 4.5 1.5]\n",
      " [6.9 3.1 4.9 1.5]\n",
      " [5.5 2.3 4.  1.3]\n",
      " [6.5 2.8 4.6 1.5]]\n",
      "[0 0 0 0 0 1 1 1 1 1]\n",
      "(array([[5.5, 2.3, 4. , 1.3],\n",
      "       [6.9, 3.1, 4.9, 1.5],\n",
      "       [5.1, 3.8, 1.6, 0.2],\n",
      "       [4.6, 3.2, 1.4, 0.2],\n",
      "       [5. , 3.3, 1.4, 0.2],\n",
      "       [7. , 3.2, 4.7, 1.4],\n",
      "       [6.4, 3.2, 4.5, 1.5],\n",
      "       [5.3, 3.7, 1.5, 0.2]]), array([[4.8, 3. , 1.4, 0.3]]), array([[6.5, 2.8, 4.6, 1.5]]))\n",
      "((array([[6.4, 3.2, 4.5, 1.5],\n",
      "       [5.5, 2.3, 4. , 1.3],\n",
      "       [5.1, 3.8, 1.6, 0.2],\n",
      "       [4.8, 3. , 1.4, 0.3],\n",
      "       [6.5, 2.8, 4.6, 1.5],\n",
      "       [5. , 3.3, 1.4, 0.2],\n",
      "       [5.3, 3.7, 1.5, 0.2],\n",
      "       [4.6, 3.2, 1.4, 0.2]]), array([1, 1, 0, 0, 1, 0, 0, 0])), (array([[7. , 3.2, 4.7, 1.4]]), array([1])), (array([[6.9, 3.1, 4.9, 1.5]]), array([1])))\n",
      "((array([[4.6, 3.2, 1.4, 0.2],\n",
      "       [7. , 3.2, 4.7, 1.4],\n",
      "       [5.5, 2.3, 4. , 1.3],\n",
      "       [5.3, 3.7, 1.5, 0.2],\n",
      "       [5. , 3.3, 1.4, 0.2],\n",
      "       [6.9, 3.1, 4.9, 1.5],\n",
      "       [6.5, 2.8, 4.6, 1.5],\n",
      "       [4.8, 3. , 1.4, 0.3]]), array([0, 1, 1, 0, 0, 1, 1, 0])), (array([[5.1, 3.8, 1.6, 0.2],\n",
      "       [6.4, 3.2, 4.5, 1.5]]), array([0, 1])), (array([], shape=(0, 4), dtype=float64), array([], dtype=int64)))\n"
     ]
    }
   ],
   "source": [
    "if __name__ == '__main__':\n",
    "    Test_data_process().test_dummy()\n",
    "    Test_data_process().test_inv_dummy()\n",
    "    Test_data_process().test_split_data()"
   ]
  },
  {
   "cell_type": "code",
   "execution_count": null,
   "metadata": {},
   "outputs": [],
   "source": []
  }
 ],
 "metadata": {
  "kernelspec": {
   "display_name": "Python 3",
   "language": "python",
   "name": "python3"
  },
  "language_info": {
   "codemirror_mode": {
    "name": "ipython",
    "version": 3
   },
   "file_extension": ".py",
   "mimetype": "text/x-python",
   "name": "python",
   "nbconvert_exporter": "python",
   "pygments_lexer": "ipython3",
   "version": "3.6.6"
  }
 },
 "nbformat": 4,
 "nbformat_minor": 2
}
